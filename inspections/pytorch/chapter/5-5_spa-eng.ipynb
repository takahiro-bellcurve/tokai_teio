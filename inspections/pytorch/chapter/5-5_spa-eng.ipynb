{
 "cells": [
  {
   "cell_type": "code",
   "execution_count": 1,
   "metadata": {
    "colab": {},
    "colab_type": "code",
    "id": "9Zx9IltZnyIF"
   },
   "outputs": [
    {
     "name": "stderr",
     "output_type": "stream",
     "text": [
      "/home/tk/university/zemi/tokai_teio/inspections/pytorch/.venv/lib/python3.9/site-packages/tqdm/auto.py:22: TqdmWarning: IProgress not found. Please update jupyter and ipywidgets. See https://ipywidgets.readthedocs.io/en/stable/user_install.html\n",
      "  from .autonotebook import tqdm as notebook_tqdm\n"
     ]
    }
   ],
   "source": [
    "import torch\n",
    "from torch import nn, optim\n",
    "from torch.utils.data import (Dataset, \n",
    "                              DataLoader,\n",
    "                              TensorDataset)\n",
    "import tqdm"
   ]
  },
  {
   "cell_type": "code",
   "execution_count": 2,
   "metadata": {
    "colab": {},
    "colab_type": "code",
    "id": "o5C2qvbRoIoi"
   },
   "outputs": [],
   "source": [
    "import re\n",
    "import collections\n",
    "import itertools\n",
    "\n",
    "remove_marks_regex = re.compile(\n",
    "    \"[\\,\\(\\)\\[\\]\\*:;¿¡]|<.*?>\")\n",
    "shift_marks_regex = re.compile(\"([?!\\.])\")\n",
    "\n",
    "unk = 0\n",
    "sos = 1\n",
    "eos = 2\n",
    "\n",
    "def normalize(text):\n",
    "    text = text.lower()\n",
    "    # 不要な文字を除去\n",
    "    text = remove_marks_regex.sub(\"\", text)\n",
    "    # ?!.と単語の間に空白を挿入\n",
    "    text = shift_marks_regex.sub(r\" \\1\", text)\n",
    "    return text\n",
    "\n",
    "def parse_line(line):\n",
    "    line = normalize(line.strip())\n",
    "    # 翻訳元(src)と翻訳先(trg)それぞれのトークンのリストを作る\n",
    "    src, trg = line.split(\"\\t\")\n",
    "    src_tokens = src.strip().split()\n",
    "    trg_tokens = trg.strip().split()\n",
    "    return src_tokens, trg_tokens\n",
    "\n",
    "def build_vocab(tokens):\n",
    "    # ファイル中のすべての文章でのトークンの出現数を数える\n",
    "    counts = collections.Counter(tokens)\n",
    "    # トークンの出現数の多い順に並べる\n",
    "    sorted_counts = sorted(counts.items(), \n",
    "                           key=lambda c: c[1], reverse=True)\n",
    "    # 3つのタグを追加して正引きリストと逆引き用辞書を作る\n",
    "    word_list = [\"<UNK>\", \"<SOS>\", \"<EOS>\"] \\\n",
    "        + [x[0] for x in sorted_counts]\n",
    "    word_dict = dict((w, i) for i, w in enumerate(word_list))\n",
    "    return word_list, word_dict\n",
    "    \n",
    "def words2tensor(words, word_dict, max_len, padding=0):\n",
    "    # 末尾に終了タグを付ける\n",
    "    words = words + [\"<EOS>\"]\n",
    "    # 辞書を利用して数値のリストに変換する\n",
    "    words = [word_dict.get(w, 0) for w in words]\n",
    "    seq_len = len(words)\n",
    "    # 長さがmax_len以下の場合はパディングする\n",
    "    if seq_len < max_len + 1:\n",
    "        words = words + [padding] * (max_len + 1 - seq_len)\n",
    "    # Tensorに変換して返す\n",
    "    return torch.tensor(words, dtype=torch.int64), seq_len"
   ]
  },
  {
   "cell_type": "markdown",
   "metadata": {
    "colab_type": "text",
    "id": "mccOe_8EoA59"
   },
   "source": [
    "リスト5.18　TranslationPairDatasetクラスの作成"
   ]
  },
  {
   "cell_type": "code",
   "execution_count": 3,
   "metadata": {
    "colab": {},
    "colab_type": "code",
    "id": "kKU4mNperk9Z"
   },
   "outputs": [],
   "source": [
    "class TranslationPairDataset(Dataset):\n",
    "    def __init__(self, path, max_len=15):\n",
    "        # 単語数が多い文章をフィルタリングする関数\n",
    "        def filter_pair(p):\n",
    "            return not (len(p[0]) > max_len \n",
    "                        or len(p[1]) > max_len)\n",
    "        # ファイルを開き、パース/フィルタリングをする       \n",
    "        with open(path) as fp:\n",
    "            pairs = map(parse_line, fp)\n",
    "            pairs = filter(filter_pair, pairs)\n",
    "            pairs = list(pairs)\n",
    "        # 文章のペアをソースとターゲットに分ける\n",
    "        src = [p[0] for p in pairs]\n",
    "        trg = [p[1] for p in pairs]\n",
    "        #それぞれの語彙集を作成する\n",
    "        self.src_word_list, self.src_word_dict = \\\n",
    "            build_vocab(itertools.chain.from_iterable(src))\n",
    "        self.trg_word_list, self.trg_word_dict = \\\n",
    "            build_vocab(itertools.chain.from_iterable(trg))\n",
    "        # 語彙集を使用してTensorに変換する\n",
    "        self.src_data = [words2tensor(\n",
    "            words, self.src_word_dict, max_len)\n",
    "                for words in src]\n",
    "        self.trg_data = [words2tensor(\n",
    "            words, self.trg_word_dict, max_len, -100)\n",
    "                for words in trg]\n",
    "        \n",
    "    def __len__(self):\n",
    "        return len(self.src_data)\n",
    "    \n",
    "    def __getitem__(self, idx):\n",
    "        src, lsrc = self.src_data[idx]\n",
    "        trg, ltrg = self.trg_data[idx]\n",
    "        return src, lsrc, trg, ltrg"
   ]
  },
  {
   "cell_type": "markdown",
   "metadata": {
    "colab_type": "text",
    "id": "OXOyt0jwoMnP"
   },
   "source": [
    "リスト5.19　DatasetとDataLoaderの作成（your_path>は任意のディレクトリを指定）"
   ]
  },
  {
   "cell_type": "code",
   "execution_count": 4,
   "metadata": {
    "colab": {},
    "colab_type": "code",
    "id": "UguehAH_sv_G"
   },
   "outputs": [],
   "source": [
    "batch_size = 64\n",
    "max_len = 10\n",
    "path = \"../data/spa.txt\"\n",
    "ds = TranslationPairDataset(path, max_len=max_len)\n",
    "loader = DataLoader(ds, batch_size=batch_size, shuffle=True,\n",
    "                    num_workers=4)"
   ]
  },
  {
   "cell_type": "markdown",
   "metadata": {
    "colab_type": "text",
    "id": "flT7AwtWoW2m"
   },
   "source": [
    "リスト5.20　Encoderの作成"
   ]
  },
  {
   "cell_type": "code",
   "execution_count": 5,
   "metadata": {
    "colab": {},
    "colab_type": "code",
    "id": "Y4La7cmCtA67"
   },
   "outputs": [],
   "source": [
    "class Encoder(nn.Module):\n",
    "    def __init__(self, num_embeddings,\n",
    "                 embedding_dim=50, \n",
    "                 hidden_size=50,\n",
    "                 num_layers=1,\n",
    "                 dropout=0.2):\n",
    "        super().__init__()\n",
    "        self.emb = nn.Embedding(num_embeddings, embedding_dim,\n",
    "                                padding_idx=0)\n",
    "        self.lstm = nn.LSTM(embedding_dim,\n",
    "                            hidden_size, num_layers,\n",
    "                            batch_first=True, dropout=dropout)\n",
    "\n",
    "    def forward(self, x, h0=None, l=None):\n",
    "        x = self.emb(x)\n",
    "        if l is not None:\n",
    "            x = nn.utils.rnn.pack_padded_sequence(\n",
    "                x, l, batch_first=True)\n",
    "        _, h = self.lstm(x, h0)\n",
    "        return h"
   ]
  },
  {
   "cell_type": "markdown",
   "metadata": {
    "colab_type": "text",
    "id": "cyC-WhMzofVq"
   },
   "source": [
    "リスト5.21　Decoderの作成（要再チェック）"
   ]
  },
  {
   "cell_type": "code",
   "execution_count": 6,
   "metadata": {
    "colab": {},
    "colab_type": "code",
    "id": "wxzDeTvetXKL"
   },
   "outputs": [],
   "source": [
    "class Decoder(nn.Module):\n",
    "    def __init__(self, num_embeddings,\n",
    "                 embedding_dim=50, \n",
    "                 hidden_size=50,\n",
    "                 num_layers=1,\n",
    "                 dropout=0.2):\n",
    "        super().__init__()\n",
    "        self.emb = nn.Embedding(num_embeddings, embedding_dim,\n",
    "                                padding_idx=0)\n",
    "        self.lstm = nn.LSTM(embedding_dim, hidden_size,\n",
    "                            num_layers, batch_first=True,\n",
    "                            dropout=dropout)\n",
    "        self.linear = nn.Linear(hidden_size, num_embeddings)\n",
    "    def forward(self, x, h, l=None):\n",
    "        x = self.emb(x)\n",
    "        if l is not None:\n",
    "            x = nn.utils.rnn.pack_padded_sequence(\n",
    "                x, l, batch_first=True)\n",
    "        x, h = self.lstm(x, h)\n",
    "        if l is not None:\n",
    "            x = nn.utils.rnn.pad_packed_sequence(x, batch_first=True, padding_value=0)[0]\n",
    "        x = self.linear(x)\n",
    "        return x, h"
   ]
  },
  {
   "cell_type": "markdown",
   "metadata": {
    "colab_type": "text",
    "id": "_W392HxopBqp"
   },
   "source": [
    "リスト5.22　翻訳する関数の作成"
   ]
  },
  {
   "cell_type": "code",
   "execution_count": 7,
   "metadata": {
    "colab": {},
    "colab_type": "code",
    "id": "UvGlLeGZsJbC"
   },
   "outputs": [],
   "source": [
    "def translate(input_str, enc, dec, max_len=15, device=\"cpu\"):\n",
    "    # 入力文字列を数値化してTensorに変換\n",
    "    words = normalize(input_str).split()\n",
    "    input_tensor, seq_len = words2tensor(words, \n",
    "        ds.src_word_dict, max_len=max_len)\n",
    "    input_tensor = input_tensor.unsqueeze(0)\n",
    "    # Encoderで使用するので入力の長さもリストにしておく\n",
    "    seq_len = [seq_len]\n",
    "    # 開始トークンを準備\n",
    "    sos_inputs = torch.tensor(sos, dtype=torch.int64)\n",
    "    input_tensor = input_tensor.to(device)\n",
    "    sos_inputs = sos_inputs.to(device)\n",
    "    # 入力文字列をEncoderに入れてコンテキストを得る\n",
    "    ctx = enc(input_tensor, l=seq_len)\n",
    "    # 開始トークンとコンテキストをDecoderの初期値にセット\n",
    "    z = sos_inputs\n",
    "    h = ctx\n",
    "    results = []\n",
    "    for i in range(max_len):\n",
    "        # Decoderで次の単語を予測\n",
    "        o, h = dec(z.view(1, 1), h)\n",
    "        # 線形層の出力が最も大きい場所が次の単語のID\n",
    "        wi = o.detach().view(-1).max(0)[1]\n",
    "        if wi.item() == eos:\n",
    "            break\n",
    "        results.append(wi.item())\n",
    "        # 次の入力は今回の出力のIDを使用する\n",
    "        z = wi\n",
    "    # 記録しておいた出力のIDを文字列に変換\n",
    "    return \" \".join(ds.trg_word_list[i] for i in results)"
   ]
  },
  {
   "cell_type": "markdown",
   "metadata": {
    "colab_type": "text",
    "id": "XolLZbJ8pJ0p"
   },
   "source": [
    "リスト5.23　関数の動作の確認"
   ]
  },
  {
   "cell_type": "code",
   "execution_count": 8,
   "metadata": {
    "colab": {},
    "colab_type": "code",
    "id": "1FjQG5AWuTnK"
   },
   "outputs": [
    {
     "data": {
      "text/plain": [
       "'horario ordenadores xix llegaras artística llegaras dejaros llegaras preocupar preocupar pasarse librarse preocupar vago xix'"
      ]
     },
     "execution_count": 8,
     "metadata": {},
     "output_type": "execute_result"
    }
   ],
   "source": [
    "enc = Encoder(len(ds.src_word_list), 100, 100, 2)\n",
    "dec = Decoder(len(ds.trg_word_list), 100, 100, 2)\n",
    "translate(\"I am a student.\", enc, dec)"
   ]
  },
  {
   "cell_type": "markdown",
   "metadata": {
    "colab_type": "text",
    "id": "BuRB5hgepMX1"
   },
   "source": [
    "リスト5.24　オプティマイザーのパラメータ"
   ]
  },
  {
   "cell_type": "code",
   "execution_count": 9,
   "metadata": {
    "colab": {},
    "colab_type": "code",
    "id": "RF0da0TBueeb"
   },
   "outputs": [],
   "source": [
    "enc = Encoder(len(ds.src_word_list), 100, 100, 2)\n",
    "dec = Decoder(len(ds.trg_word_list), 100, 100, 2)\n",
    "enc.to(\"cuda:0\")\n",
    "dec.to(\"cuda:0\")\n",
    "opt_enc = optim.Adam(enc.parameters(), 0.002)\n",
    "opt_dec = optim.Adam(dec.parameters(), 0.002)\n",
    "loss_f = nn.CrossEntropyLoss()"
   ]
  },
  {
   "cell_type": "markdown",
   "metadata": {
    "colab_type": "text",
    "id": "SDmwNm0kpSnt"
   },
   "source": [
    "リスト5.25　モデルの学習部分（損失関数など）"
   ]
  },
  {
   "cell_type": "code",
   "execution_count": 10,
   "metadata": {
    "colab": {},
    "colab_type": "code",
    "id": "d3e8_A3fwJEM"
   },
   "outputs": [
    {
     "name": "stderr",
     "output_type": "stream",
     "text": [
      "100%|██████████| 1883/1883 [00:18<00:00, 102.93it/s]\n"
     ]
    },
    {
     "name": "stdout",
     "output_type": "stream",
     "text": [
      "0 5.258973853738778\n",
      "un poco .\n",
      "a ser que media .\n",
      "es mi hermano .\n"
     ]
    },
    {
     "name": "stderr",
     "output_type": "stream",
     "text": [
      "100%|██████████| 1883/1883 [00:18<00:00, 102.70it/s]\n"
     ]
    },
    {
     "name": "stdout",
     "output_type": "stream",
     "text": [
      "1 3.109940818567828\n",
      "un poco .\n",
      "a comer hoy .\n",
      "mi amigo .\n"
     ]
    },
    {
     "name": "stderr",
     "output_type": "stream",
     "text": [
      "100%|██████████| 1883/1883 [00:18<00:00, 100.20it/s]\n"
     ]
    },
    {
     "name": "stdout",
     "output_type": "stream",
     "text": [
      "2 1.9578714772734438\n",
      "un poco .\n",
      "a comer hoy .\n",
      "mi madre .\n"
     ]
    },
    {
     "name": "stderr",
     "output_type": "stream",
     "text": [
      "100%|██████████| 1883/1883 [00:18<00:00, 103.08it/s]\n"
     ]
    },
    {
     "name": "stdout",
     "output_type": "stream",
     "text": [
      "3 1.556571410934278\n",
      "un poco .\n",
      "a comer pizza .\n",
      "mi madre .\n"
     ]
    },
    {
     "name": "stderr",
     "output_type": "stream",
     "text": [
      "100%|██████████| 1883/1883 [00:17<00:00, 105.00it/s]\n"
     ]
    },
    {
     "name": "stdout",
     "output_type": "stream",
     "text": [
      "4 1.3391759369326472\n",
      "un estudiante .\n",
      "a comer a comer .\n",
      "mi madre .\n"
     ]
    },
    {
     "name": "stderr",
     "output_type": "stream",
     "text": [
      "100%|██████████| 1883/1883 [00:18<00:00, 101.78it/s]\n"
     ]
    },
    {
     "name": "stdout",
     "output_type": "stream",
     "text": [
      "5 1.184159211193192\n",
      "un estudiante .\n",
      "a comer pizza .\n",
      "mi madre .\n"
     ]
    },
    {
     "name": "stderr",
     "output_type": "stream",
     "text": [
      "100%|██████████| 1883/1883 [00:18<00:00, 100.28it/s]\n"
     ]
    },
    {
     "name": "stdout",
     "output_type": "stream",
     "text": [
      "6 1.0649419800119708\n",
      "un estudiante .\n",
      "a comer pizza .\n",
      "mi madre .\n"
     ]
    },
    {
     "name": "stderr",
     "output_type": "stream",
     "text": [
      "100%|██████████| 1883/1883 [00:18<00:00, 101.09it/s]\n"
     ]
    },
    {
     "name": "stdout",
     "output_type": "stream",
     "text": [
      "7 0.97232527120026\n",
      "un estudiante .\n",
      "a comer pizza .\n",
      "mi madre .\n"
     ]
    },
    {
     "name": "stderr",
     "output_type": "stream",
     "text": [
      "100%|██████████| 1883/1883 [00:18<00:00, 99.49it/s] \n"
     ]
    },
    {
     "name": "stdout",
     "output_type": "stream",
     "text": [
      "8 0.8976133550599859\n",
      "un estudiante .\n",
      "a comer pizza .\n",
      "mi madre .\n"
     ]
    },
    {
     "name": "stderr",
     "output_type": "stream",
     "text": [
      "100%|██████████| 1883/1883 [00:18<00:00, 100.97it/s]\n"
     ]
    },
    {
     "name": "stdout",
     "output_type": "stream",
     "text": [
      "9 0.8354161488079227\n",
      "un estudiante .\n",
      "a comer pizza .\n",
      "mi madre .\n"
     ]
    },
    {
     "name": "stderr",
     "output_type": "stream",
     "text": [
      "100%|██████████| 1883/1883 [00:17<00:00, 104.98it/s]\n"
     ]
    },
    {
     "name": "stdout",
     "output_type": "stream",
     "text": [
      "10 0.7852264333138489\n",
      "un estudiante .\n",
      "a comer pizza .\n",
      "mi madre .\n"
     ]
    },
    {
     "name": "stderr",
     "output_type": "stream",
     "text": [
      "100%|██████████| 1883/1883 [00:18<00:00, 99.91it/s] \n"
     ]
    },
    {
     "name": "stdout",
     "output_type": "stream",
     "text": [
      "11 0.7414521473680984\n",
      "un estudiante .\n",
      "a comer pizza .\n",
      "mi madre .\n"
     ]
    },
    {
     "name": "stderr",
     "output_type": "stream",
     "text": [
      "100%|██████████| 1883/1883 [00:18<00:00, 102.85it/s]\n"
     ]
    },
    {
     "name": "stdout",
     "output_type": "stream",
     "text": [
      "12 0.7050689660641847\n",
      "un estudiante .\n",
      "a comer pizza .\n",
      "mi madre .\n"
     ]
    },
    {
     "name": "stderr",
     "output_type": "stream",
     "text": [
      "100%|██████████| 1883/1883 [00:17<00:00, 106.21it/s]\n"
     ]
    },
    {
     "name": "stdout",
     "output_type": "stream",
     "text": [
      "13 0.6738020015313659\n",
      "un estudiante .\n",
      "a comer pizza .\n",
      "mi madre .\n"
     ]
    },
    {
     "name": "stderr",
     "output_type": "stream",
     "text": [
      "100%|██████████| 1883/1883 [00:18<00:00, 104.57it/s]\n"
     ]
    },
    {
     "name": "stdout",
     "output_type": "stream",
     "text": [
      "14 0.6460449090202754\n",
      "un estudiante .\n",
      "a comer pizza .\n",
      "a mi madre .\n"
     ]
    },
    {
     "name": "stderr",
     "output_type": "stream",
     "text": [
      "100%|██████████| 1883/1883 [00:17<00:00, 104.65it/s]\n"
     ]
    },
    {
     "name": "stdout",
     "output_type": "stream",
     "text": [
      "15 0.620587820473087\n",
      "un estudiante .\n",
      "a comer pizza .\n",
      "mi madre .\n"
     ]
    },
    {
     "name": "stderr",
     "output_type": "stream",
     "text": [
      "100%|██████████| 1883/1883 [00:18<00:00, 101.88it/s]\n"
     ]
    },
    {
     "name": "stdout",
     "output_type": "stream",
     "text": [
      "16 0.5979488107731414\n",
      "un estudiante .\n",
      "a comer pizza .\n",
      "mi madre .\n"
     ]
    },
    {
     "name": "stderr",
     "output_type": "stream",
     "text": [
      "100%|██████████| 1883/1883 [00:18<00:00, 102.26it/s]\n"
     ]
    },
    {
     "name": "stdout",
     "output_type": "stream",
     "text": [
      "17 0.578738283522257\n",
      "un estudiante .\n",
      "a comer pizza .\n",
      "mi madre .\n"
     ]
    },
    {
     "name": "stderr",
     "output_type": "stream",
     "text": [
      "100%|██████████| 1883/1883 [00:17<00:00, 104.92it/s]\n"
     ]
    },
    {
     "name": "stdout",
     "output_type": "stream",
     "text": [
      "18 0.5603976734793699\n",
      "un estudiante .\n",
      "a comer pizza .\n",
      "mi madre .\n"
     ]
    },
    {
     "name": "stderr",
     "output_type": "stream",
     "text": [
      "100%|██████████| 1883/1883 [00:18<00:00, 101.46it/s]\n"
     ]
    },
    {
     "name": "stdout",
     "output_type": "stream",
     "text": [
      "19 0.54388887834435\n",
      "un estudiante .\n",
      "a comer a mary .\n",
      "mi madre .\n"
     ]
    },
    {
     "name": "stderr",
     "output_type": "stream",
     "text": [
      "100%|██████████| 1883/1883 [00:17<00:00, 106.40it/s]\n"
     ]
    },
    {
     "name": "stdout",
     "output_type": "stream",
     "text": [
      "20 0.5281928200007625\n",
      "un estudiante .\n",
      "a comer pizza .\n",
      "mi madre .\n"
     ]
    },
    {
     "name": "stderr",
     "output_type": "stream",
     "text": [
      "100%|██████████| 1883/1883 [00:18<00:00, 102.68it/s]\n"
     ]
    },
    {
     "name": "stdout",
     "output_type": "stream",
     "text": [
      "21 0.5146928318181192\n",
      "un estudiante .\n",
      "a comer pizza .\n",
      "mi madre .\n"
     ]
    },
    {
     "name": "stderr",
     "output_type": "stream",
     "text": [
      "100%|██████████| 1883/1883 [00:18<00:00, 104.55it/s]\n"
     ]
    },
    {
     "name": "stdout",
     "output_type": "stream",
     "text": [
      "22 0.5023749826660956\n",
      "un estudiante .\n",
      "a comer pizza .\n",
      "mi madre .\n"
     ]
    },
    {
     "name": "stderr",
     "output_type": "stream",
     "text": [
      "100%|██████████| 1883/1883 [00:17<00:00, 106.98it/s]\n"
     ]
    },
    {
     "name": "stdout",
     "output_type": "stream",
     "text": [
      "23 0.49103953738004935\n",
      "un estudiante .\n",
      "a comer pizza .\n",
      "mi madre .\n"
     ]
    },
    {
     "name": "stderr",
     "output_type": "stream",
     "text": [
      "100%|██████████| 1883/1883 [00:18<00:00, 103.70it/s]\n"
     ]
    },
    {
     "name": "stdout",
     "output_type": "stream",
     "text": [
      "24 0.4784824727098168\n",
      "un estudiante .\n",
      "a comer pizza .\n",
      "mi madre .\n"
     ]
    },
    {
     "name": "stderr",
     "output_type": "stream",
     "text": [
      "100%|█████████▉| 1876/1883 [00:18<00:00, 102.90it/s]\n"
     ]
    },
    {
     "ename": "KeyboardInterrupt",
     "evalue": "",
     "output_type": "error",
     "traceback": [
      "\u001b[0;31m---------------------------------------------------------------------------\u001b[0m",
      "\u001b[0;31mKeyboardInterrupt\u001b[0m                         Traceback (most recent call last)",
      "Cell \u001b[0;32mIn[10], line 33\u001b[0m\n\u001b[1;32m     31\u001b[0m     enc\u001b[39m.\u001b[39mzero_grad(), dec\u001b[39m.\u001b[39mzero_grad()\n\u001b[1;32m     32\u001b[0m     loss\u001b[39m.\u001b[39mbackward()\n\u001b[0;32m---> 33\u001b[0m     opt_enc\u001b[39m.\u001b[39mstep(), opt_dec\u001b[39m.\u001b[39;49mstep()\n\u001b[1;32m     34\u001b[0m     losses\u001b[39m.\u001b[39mappend(loss\u001b[39m.\u001b[39mitem())\n\u001b[1;32m     36\u001b[0m \u001b[39m# データセットに対して一通り計算したら現在の\u001b[39;00m\n\u001b[1;32m     37\u001b[0m \u001b[39m# 損失関数の値や翻訳結果を表示\u001b[39;00m\n",
      "File \u001b[0;32m~/university/zemi/tokai_teio/inspections/pytorch/.venv/lib/python3.9/site-packages/torch/optim/optimizer.py:140\u001b[0m, in \u001b[0;36mOptimizer._hook_for_profile.<locals>.profile_hook_step.<locals>.wrapper\u001b[0;34m(*args, **kwargs)\u001b[0m\n\u001b[1;32m    138\u001b[0m profile_name \u001b[39m=\u001b[39m \u001b[39m\"\u001b[39m\u001b[39mOptimizer.step#\u001b[39m\u001b[39m{}\u001b[39;00m\u001b[39m.step\u001b[39m\u001b[39m\"\u001b[39m\u001b[39m.\u001b[39mformat(obj\u001b[39m.\u001b[39m\u001b[39m__class__\u001b[39m\u001b[39m.\u001b[39m\u001b[39m__name__\u001b[39m)\n\u001b[1;32m    139\u001b[0m \u001b[39mwith\u001b[39;00m torch\u001b[39m.\u001b[39mautograd\u001b[39m.\u001b[39mprofiler\u001b[39m.\u001b[39mrecord_function(profile_name):\n\u001b[0;32m--> 140\u001b[0m     out \u001b[39m=\u001b[39m func(\u001b[39m*\u001b[39;49margs, \u001b[39m*\u001b[39;49m\u001b[39m*\u001b[39;49mkwargs)\n\u001b[1;32m    141\u001b[0m     obj\u001b[39m.\u001b[39m_optimizer_step_code()\n\u001b[1;32m    142\u001b[0m     \u001b[39mreturn\u001b[39;00m out\n",
      "File \u001b[0;32m~/university/zemi/tokai_teio/inspections/pytorch/.venv/lib/python3.9/site-packages/torch/optim/optimizer.py:23\u001b[0m, in \u001b[0;36m_use_grad_for_differentiable.<locals>._use_grad\u001b[0;34m(self, *args, **kwargs)\u001b[0m\n\u001b[1;32m     21\u001b[0m \u001b[39mtry\u001b[39;00m:\n\u001b[1;32m     22\u001b[0m     torch\u001b[39m.\u001b[39mset_grad_enabled(\u001b[39mself\u001b[39m\u001b[39m.\u001b[39mdefaults[\u001b[39m'\u001b[39m\u001b[39mdifferentiable\u001b[39m\u001b[39m'\u001b[39m])\n\u001b[0;32m---> 23\u001b[0m     ret \u001b[39m=\u001b[39m func(\u001b[39mself\u001b[39;49m, \u001b[39m*\u001b[39;49margs, \u001b[39m*\u001b[39;49m\u001b[39m*\u001b[39;49mkwargs)\n\u001b[1;32m     24\u001b[0m \u001b[39mfinally\u001b[39;00m:\n\u001b[1;32m     25\u001b[0m     torch\u001b[39m.\u001b[39mset_grad_enabled(prev_grad)\n",
      "File \u001b[0;32m~/university/zemi/tokai_teio/inspections/pytorch/.venv/lib/python3.9/site-packages/torch/optim/adam.py:192\u001b[0m, in \u001b[0;36mAdam.step\u001b[0;34m(self, closure, grad_scaler)\u001b[0m\n\u001b[1;32m    190\u001b[0m max_exp_avg_sqs \u001b[39m=\u001b[39m []\n\u001b[1;32m    191\u001b[0m state_steps \u001b[39m=\u001b[39m []\n\u001b[0;32m--> 192\u001b[0m beta1, beta2 \u001b[39m=\u001b[39m group[\u001b[39m'\u001b[39;49m\u001b[39mbetas\u001b[39;49m\u001b[39m'\u001b[39;49m]\n\u001b[1;32m    194\u001b[0m grad_scale \u001b[39m=\u001b[39m \u001b[39mNone\u001b[39;00m\n\u001b[1;32m    195\u001b[0m found_inf \u001b[39m=\u001b[39m \u001b[39mNone\u001b[39;00m\n",
      "\u001b[0;31mKeyboardInterrupt\u001b[0m: "
     ]
    }
   ],
   "source": [
    "from statistics import mean\n",
    "\n",
    "def to2D(x):\n",
    "    shapes = x.shape\n",
    "    return x.reshape(shapes[0] * shapes[1], -1)\n",
    "\n",
    "for epoc in range(30):\n",
    "    # ネットワークを訓練モードにする\n",
    "    enc.train(), dec.train()\n",
    "    losses = []\n",
    "    for x, lx, y, ly in tqdm.tqdm(loader):\n",
    "        # xのPackedSequenceを作るために翻訳元の長さで降順にソート\n",
    "        lx, sort_idx = lx.sort(descending=True)\n",
    "        x, y, ly = x[sort_idx], y[sort_idx], ly[sort_idx]\n",
    "        x, y = x.to(\"cuda:0\"), y.to(\"cuda:0\")\n",
    "        # 翻訳元をEncoderに入れてコンテキストを得る\n",
    "        ctx = enc(x, l=lx)\n",
    "        \n",
    "        # yのPackedSequenceを作るために翻訳先の長さで降順にソート\n",
    "        ly, sort_idx = ly.sort(descending=True)\n",
    "        y = y[sort_idx]\n",
    "        # Decoderの初期値をセット\n",
    "        h0 = (ctx[0][:, sort_idx, :], ctx[1][:, sort_idx, :])\n",
    "        z = y[:, :-1].detach()\n",
    "        # -100のままだとEmbeddingの計算でエラーが出てしまうので値を0に変更しておく\n",
    "        z[z==-100] = 0\n",
    "        # Decoderに通して損失関数を計算\n",
    "        o, _ = dec(z, h0, l=ly-1)\n",
    "        loss = loss_f(to2D(o[:]), to2D(y[:, 1:max(ly)]).squeeze())\n",
    "        # Backpropagation（誤差逆伝播法）を実行\n",
    "        enc.zero_grad(), dec.zero_grad()\n",
    "        loss.backward()\n",
    "        opt_enc.step(), opt_dec.step()\n",
    "        losses.append(loss.item())\n",
    "        \n",
    "    # データセットに対して一通り計算したら現在の\n",
    "    # 損失関数の値や翻訳結果を表示\n",
    "    enc.eval(), dec.eval()\n",
    "    print(epoc, mean(losses))\n",
    "    with torch.no_grad():\n",
    "        print(translate(\"I am a student.\",\n",
    "                         enc, dec, max_len=max_len, device=\"cuda:0\"))\n",
    "        print(translate(\"He likes to eat pizza.\",\n",
    "                         enc, dec, max_len=max_len, device=\"cuda:0\"))\n",
    "        print(translate(\"She is my mother.\",\n",
    "                         enc, dec, max_len=max_len, device=\"cuda:0\"))"
   ]
  },
  {
   "cell_type": "code",
   "execution_count": null,
   "metadata": {},
   "outputs": [],
   "source": []
  },
  {
   "cell_type": "code",
   "execution_count": null,
   "metadata": {},
   "outputs": [],
   "source": []
  }
 ],
 "metadata": {
  "kernelspec": {
   "display_name": "Python 3.9.6 ('.venv': pipenv)",
   "language": "python",
   "name": "python3"
  },
  "language_info": {
   "codemirror_mode": {
    "name": "ipython",
    "version": 3
   },
   "file_extension": ".py",
   "mimetype": "text/x-python",
   "name": "python",
   "nbconvert_exporter": "python",
   "pygments_lexer": "ipython3",
   "version": "3.9.6"
  },
  "orig_nbformat": 4,
  "vscode": {
   "interpreter": {
    "hash": "6b9f220186b1679e4c67686f80c503f2a68b9789d94e8dfa473b7907788bc702"
   }
  }
 },
 "nbformat": 4,
 "nbformat_minor": 2
}
