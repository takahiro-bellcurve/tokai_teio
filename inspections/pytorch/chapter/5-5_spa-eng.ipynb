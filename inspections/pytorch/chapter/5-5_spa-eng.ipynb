{
 "cells": [
  {
   "cell_type": "markdown",
   "metadata": {},
   "source": [
    "## Encoder-Decoderモデルによる機械翻訳\n",
    "\n",
    "RNNの章として最後にencoder-decoderという2つのニューラルネットワークを用いたモデルを使用して機械翻訳を実装します。\n",
    "\n",
    "Encoder-Decoderモデルは任意の2つの対象を用意して、片方からもう一方を生成することができます。\n",
    "\n",
    "今回の例では英語とフランス語の文章を用意することで英語からフランス語への翻訳モデルを作成します。また質問文と回答を用意すれば自動Q&Aシステムをつくることもできます。\n",
    "\n",
    "さらにCNNと組み合わせることで、画像から説明文を作成するといった応用てきなことも可能です。\n"
   ]
  },
  {
   "cell_type": "markdown",
   "metadata": {},
   "source": [
    "## Encoder-Decoderモデルの概要\n",
    "\n",
    "Encoder-Decoderモデルは自由度の高いモデルなので様々な派生が存在しますが、だいたい次のように動作します。\n",
    "\n",
    "1. 翻訳元のデータをEncoderに入力し特徴量ベクトルを得る\n",
    "2. 特徴量ベクトルをDecoderに入力し翻訳先のデータを得る\n",
    "\n",
    "\n"
   ]
  },
  {
   "cell_type": "code",
   "execution_count": 6,
   "metadata": {
    "colab": {},
    "colab_type": "code",
    "id": "9Zx9IltZnyIF"
   },
   "outputs": [
    {
     "name": "stderr",
     "output_type": "stream",
     "text": [
      "/home/tk/university/zemi/tokai_teio/inspections/pytorch/.venv/lib/python3.9/site-packages/tqdm/auto.py:22: TqdmWarning: IProgress not found. Please update jupyter and ipywidgets. See https://ipywidgets.readthedocs.io/en/stable/user_install.html\n",
      "  from .autonotebook import tqdm as notebook_tqdm\n"
     ]
    }
   ],
   "source": [
    "import torch\n",
    "from torch import nn, optim\n",
    "from torch.utils.data import (Dataset, \n",
    "                              DataLoader,\n",
    "                              TensorDataset)\n",
    "import tqdm"
   ]
  },
  {
   "cell_type": "code",
   "execution_count": 8,
   "metadata": {
    "colab": {},
    "colab_type": "code",
    "id": "o5C2qvbRoIoi"
   },
   "outputs": [],
   "source": [
    "import re\n",
    "import collections\n",
    "import itertools\n",
    "\n",
    "remove_marks_regex = re.compile(\n",
    "    \"[\\,\\(\\)\\[\\]\\*:;¿¡]|<.*?>\")\n",
    "shift_marks_regex = re.compile(\"([?!\\.])\")\n",
    "\n",
    "unk = 0\n",
    "sos = 1\n",
    "eos = 2\n",
    "\n",
    "def normalize(text):\n",
    "    text = text.lower()\n",
    "    # 不要な文字を除去\n",
    "    text = remove_marks_regex.sub(\"\", text)\n",
    "    # ?!.と単語の間に空白を挿入\n",
    "    text = shift_marks_regex.sub(r\" \\1\", text)\n",
    "    return text\n",
    "\n",
    "def parse_line(line):\n",
    "    line = normalize(line.strip())\n",
    "    # 翻訳元(src)と翻訳先(trg)それぞれのトークンのリストを作る\n",
    "    src, trg = line.split(\"\\t\")\n",
    "    src_tokens = src.strip().split()\n",
    "    trg_tokens = trg.strip().split()\n",
    "    return src_tokens, trg_tokens\n",
    "\n",
    "def build_vocab(tokens):\n",
    "    # ファイル中のすべての文章でのトークンの出現数を数える\n",
    "    counts = collections.Counter(tokens)\n",
    "    # トークンの出現数の多い順に並べる\n",
    "    sorted_counts = sorted(counts.items(), \n",
    "                           key=lambda c: c[1], reverse=True)\n",
    "    # 3つのタグを追加して正引きリストと逆引き用辞書を作る\n",
    "    word_list = [\"<UNK>\", \"<SOS>\", \"<EOS>\"] \\\n",
    "        + [x[0] for x in sorted_counts]\n",
    "    word_dict = dict((w, i) for i, w in enumerate(word_list))\n",
    "    return word_list, word_dict\n",
    "    \n",
    "def words2tensor(words, word_dict, max_len, padding=0):\n",
    "    # 末尾に終了タグを付ける\n",
    "    words = words + [\"<EOS>\"]\n",
    "    # 辞書を利用して数値のリストに変換する\n",
    "    words = [word_dict.get(w, 0) for w in words]\n",
    "    seq_len = len(words)\n",
    "    # 長さがmax_len以下の場合はパディングする\n",
    "    if seq_len < max_len + 1:\n",
    "        words = words + [padding] * (max_len + 1 - seq_len)\n",
    "    # Tensorに変換して返す\n",
    "    return torch.tensor(words, dtype=torch.int64), seq_len"
   ]
  },
  {
   "cell_type": "code",
   "execution_count": 9,
   "metadata": {},
   "outputs": [
    {
     "name": "stdout",
     "output_type": "stream",
     "text": [
      "type of collections.Counter : <class 'collections.Counter'>\n",
      "counts: dict_items([(1, 2), (2, 1), (3, 1), (4, 3), (5, 1)])\n",
      "sorted counts: [(4, 3), (1, 2), (2, 1), (3, 1), (5, 1)]\n"
     ]
    }
   ],
   "source": [
    "print('type of collections.Counter :',type(collections.Counter([1,1,2,3,4,4,4,5])))\n",
    "counts = collections.Counter([1,1,2,3,4,4,4,5])\n",
    "print('counts:',counts.items())\n",
    "print('sorted counts:',sorted(counts.items(), key=lambda x: x[1], reverse=True))"
   ]
  },
  {
   "cell_type": "code",
   "execution_count": 10,
   "metadata": {},
   "outputs": [
    {
     "name": "stdout",
     "output_type": "stream",
     "text": [
      "list3: [1, 2, 3, 4, 5, 6, 7, 8, 9, 10]\n"
     ]
    }
   ],
   "source": [
    "list1 = [1,2,3,4,5]\n",
    "list2 = [6,7,8,9,10]\n",
    "list3 = list1 + list2\n",
    "print('list3:',list3)"
   ]
  },
  {
   "cell_type": "markdown",
   "metadata": {
    "colab_type": "text",
    "id": "mccOe_8EoA59"
   },
   "source": [
    "リスト5.18　TranslationPairDatasetクラスの作成"
   ]
  },
  {
   "cell_type": "code",
   "execution_count": 11,
   "metadata": {
    "colab": {},
    "colab_type": "code",
    "id": "kKU4mNperk9Z"
   },
   "outputs": [],
   "source": [
    "class TranslationPairDataset(Dataset):\n",
    "    def __init__(self, path, max_len=15):\n",
    "        # 単語数が多い文章をフィルタリングする関数\n",
    "        def filter_pair(p):\n",
    "            return not (len(p[0]) > max_len \n",
    "                        or len(p[1]) > max_len)\n",
    "        # ファイルを開き、パース/フィルタリングをする       \n",
    "        with open(path) as fp:\n",
    "            pairs = map(parse_line, fp)\n",
    "            pairs = filter(filter_pair, pairs)\n",
    "            pairs = list(pairs)\n",
    "        # 文章のペアをソースとターゲットに分ける\n",
    "        src = [p[0] for p in pairs]\n",
    "        trg = [p[1] for p in pairs]\n",
    "        #それぞれの語彙集を作成する\n",
    "        self.src_word_list, self.src_word_dict = \\\n",
    "            build_vocab(itertools.chain.from_iterable(src))\n",
    "        self.trg_word_list, self.trg_word_dict = \\\n",
    "            build_vocab(itertools.chain.from_iterable(trg))\n",
    "        # 語彙集を使用してTensorに変換する\n",
    "        self.src_data = [words2tensor(\n",
    "            words, self.src_word_dict, max_len)\n",
    "                for words in src]\n",
    "        self.trg_data = [words2tensor(\n",
    "            words, self.trg_word_dict, max_len, -100)\n",
    "                for words in trg]\n",
    "        \n",
    "    def __len__(self):\n",
    "        return len(self.src_data)\n",
    "    \n",
    "    def __getitem__(self, idx):\n",
    "        src, lsrc = self.src_data[idx]\n",
    "        trg, ltrg = self.trg_data[idx]\n",
    "        return src, lsrc, trg, ltrg"
   ]
  },
  {
   "cell_type": "markdown",
   "metadata": {
    "colab_type": "text",
    "id": "OXOyt0jwoMnP"
   },
   "source": [
    "リスト5.19　DatasetとDataLoaderの作成（your_path>は任意のディレクトリを指定）"
   ]
  },
  {
   "cell_type": "code",
   "execution_count": 12,
   "metadata": {
    "colab": {},
    "colab_type": "code",
    "id": "UguehAH_sv_G"
   },
   "outputs": [],
   "source": [
    "batch_size = 64\n",
    "max_len = 10\n",
    "path = \"../data/spa.txt\"\n",
    "ds = TranslationPairDataset(path, max_len=max_len)\n",
    "loader = DataLoader(ds, batch_size=batch_size, shuffle=True,\n",
    "                    num_workers=4)"
   ]
  },
  {
   "cell_type": "code",
   "execution_count": 13,
   "metadata": {},
   "outputs": [
    {
     "data": {
      "text/plain": [
       "120493"
      ]
     },
     "execution_count": 13,
     "metadata": {},
     "output_type": "execute_result"
    }
   ],
   "source": [
    "ds.__len__()"
   ]
  },
  {
   "cell_type": "markdown",
   "metadata": {
    "colab_type": "text",
    "id": "flT7AwtWoW2m"
   },
   "source": [
    "リスト5.20　Encoderの作成"
   ]
  },
  {
   "cell_type": "code",
   "execution_count": 14,
   "metadata": {
    "colab": {},
    "colab_type": "code",
    "id": "Y4La7cmCtA67"
   },
   "outputs": [],
   "source": [
    "class Encoder(nn.Module):\n",
    "    def __init__(self, num_embeddings,\n",
    "                 embedding_dim=50, \n",
    "                 hidden_size=50,\n",
    "                 num_layers=1,\n",
    "                 dropout=0.2):\n",
    "        super().__init__()\n",
    "        self.emb = nn.Embedding(num_embeddings, embedding_dim,\n",
    "                                padding_idx=0)\n",
    "        self.lstm = nn.LSTM(embedding_dim,\n",
    "                            hidden_size, num_layers,\n",
    "                            batch_first=True, dropout=dropout)\n",
    "\n",
    "    def forward(self, x, h0=None, l=None):\n",
    "        x = self.emb(x)\n",
    "        if l is not None:\n",
    "            x = nn.utils.rnn.pack_padded_sequence(\n",
    "                x, l, batch_first=True)\n",
    "        _, h = self.lstm(x, h0)\n",
    "        return h"
   ]
  },
  {
   "cell_type": "markdown",
   "metadata": {
    "colab_type": "text",
    "id": "cyC-WhMzofVq"
   },
   "source": [
    "リスト5.21　Decoderの作成（要再チェック）"
   ]
  },
  {
   "cell_type": "code",
   "execution_count": 15,
   "metadata": {
    "colab": {},
    "colab_type": "code",
    "id": "wxzDeTvetXKL"
   },
   "outputs": [],
   "source": [
    "class Decoder(nn.Module):\n",
    "    def __init__(self, num_embeddings,\n",
    "                 embedding_dim=50, \n",
    "                 hidden_size=50,\n",
    "                 num_layers=1,\n",
    "                 dropout=0.2):\n",
    "        super().__init__()\n",
    "        self.emb = nn.Embedding(num_embeddings, embedding_dim,\n",
    "                                padding_idx=0)\n",
    "        self.lstm = nn.LSTM(embedding_dim, hidden_size,\n",
    "                            num_layers, batch_first=True,\n",
    "                            dropout=dropout)\n",
    "        self.linear = nn.Linear(hidden_size, num_embeddings)\n",
    "    def forward(self, x, h, l=None):\n",
    "        x = self.emb(x)\n",
    "        if l is not None:\n",
    "            x = nn.utils.rnn.pack_padded_sequence(\n",
    "                x, l, batch_first=True)\n",
    "        x, h = self.lstm(x, h)\n",
    "        if l is not None:\n",
    "            x = nn.utils.rnn.pad_packed_sequence(x, batch_first=True, padding_value=0)[0]\n",
    "        x = self.linear(x)\n",
    "        return x, h"
   ]
  },
  {
   "cell_type": "markdown",
   "metadata": {},
   "source": [
    "`nn.utils.rnn.pack_padded_sequence` & `nn.utils.rnn.pad_packed_sequence`\n",
    "\n",
    "PytorchでRNN, LSTM, GRUなどの系列モデルを訓練するには、サンプルの系列としての長さがすべて同じでなければなりません。\n",
    "\n",
    "そのため、Pytorchでは系列長を揃えてくれるような関数を用意してくれている。\n",
    "その4つあるうちの2つが上の2つ。\n",
    "\n",
    "\n",
    "\n",
    "\n",
    "\n",
    "https://qiita.com/iBotamon/items/acffef7852faadb420fd#3-pad_packed_sequence\n"
   ]
  },
  {
   "cell_type": "markdown",
   "metadata": {
    "colab_type": "text",
    "id": "_W392HxopBqp"
   },
   "source": [
    "リスト5.22　翻訳する関数の作成"
   ]
  },
  {
   "cell_type": "code",
   "execution_count": 27,
   "metadata": {
    "colab": {},
    "colab_type": "code",
    "id": "UvGlLeGZsJbC"
   },
   "outputs": [],
   "source": [
    "def translate(input_str, enc, dec, max_len=15, device=\"cpu\"):\n",
    "    # 入力文字列を数値化してTensorに変換\n",
    "    words = normalize(input_str).split()\n",
    "    input_tensor, seq_len = words2tensor(words, \n",
    "        ds.src_word_dict, max_len=max_len)\n",
    "    input_tensor = input_tensor.unsqueeze(0)\n",
    "    # Encoderで使用するので入力の長さもリストにしておく\n",
    "    seq_len = [seq_len]\n",
    "    # 開始トークンを準備\n",
    "    sos_inputs = torch.tensor(sos, dtype=torch.int64)\n",
    "    input_tensor = input_tensor.to(device)\n",
    "    sos_inputs = sos_inputs.to(device)\n",
    "    # 入力文字列をEncoderに入れてコンテキストを得る\n",
    "    ctx = enc(input_tensor, l=seq_len)\n",
    "    # 開始トークンとコンテキストをDecoderの初期値にセット\n",
    "    z = sos_inputs\n",
    "    h = ctx\n",
    "    results = []\n",
    "    for i in range(max_len):\n",
    "        # Decoderで次の単語を予測\n",
    "        o, h = dec(z.view(1, 1), h)\n",
    "        # print(o.shape)\n",
    "        # 線形層の出力が最も大きい場所が次の単語のID\n",
    "        wi = o.detach().view(-1).max(0)[1]\n",
    "        # print(wi)\n",
    "        if wi.item() == eos:\n",
    "            # word_idがeosなら終了\n",
    "            break\n",
    "        results.append(wi.item())\n",
    "        # 次の入力は今回の出力のIDを使用する\n",
    "        z = wi\n",
    "    # 記録しておいた出力のIDを文字列に変換\n",
    "    return \" \".join(ds.trg_word_list[i] for i in results)"
   ]
  },
  {
   "cell_type": "code",
   "execution_count": 18,
   "metadata": {},
   "outputs": [
    {
     "name": "stdout",
     "output_type": "stream",
     "text": [
      "tensor(1)\n"
     ]
    },
    {
     "data": {
      "text/plain": [
       "tensor([[1]])"
      ]
     },
     "execution_count": 18,
     "metadata": {},
     "output_type": "execute_result"
    }
   ],
   "source": [
    "_sos_inputs = torch.tensor(sos, dtype=torch.int64)\n",
    "print(_sos_inputs)\n",
    "_sos_inputs.view(1, 1)"
   ]
  },
  {
   "cell_type": "code",
   "execution_count": 20,
   "metadata": {},
   "outputs": [
    {
     "data": {
      "text/plain": [
       "tensor([1, 2, 3, 4, 5])"
      ]
     },
     "execution_count": 20,
     "metadata": {},
     "output_type": "execute_result"
    }
   ],
   "source": [
    "view_test = torch.tensor([1, 2, 3, 4, 5])\n",
    "view_test.view(-1)"
   ]
  },
  {
   "cell_type": "markdown",
   "metadata": {
    "colab_type": "text",
    "id": "XolLZbJ8pJ0p"
   },
   "source": [
    "リスト5.23　関数の動作の確認"
   ]
  },
  {
   "cell_type": "code",
   "execution_count": 28,
   "metadata": {
    "colab": {},
    "colab_type": "code",
    "id": "1FjQG5AWuTnK"
   },
   "outputs": [
    {
     "data": {
      "text/plain": [
       "'acabaré afiló grabaciones romperle romperle romperle romperle romperle romperle romperle romperle romperle romperle romperle romperle'"
      ]
     },
     "execution_count": 28,
     "metadata": {},
     "output_type": "execute_result"
    }
   ],
   "source": [
    "enc = Encoder(len(ds.src_word_list), 100, 100, 2)\n",
    "dec = Decoder(len(ds.trg_word_list), 100, 100, 2)\n",
    "translate(\"I am a student.\", enc, dec)"
   ]
  },
  {
   "cell_type": "markdown",
   "metadata": {
    "colab_type": "text",
    "id": "BuRB5hgepMX1"
   },
   "source": [
    "リスト5.24　オプティマイザーのパラメータ"
   ]
  },
  {
   "cell_type": "code",
   "execution_count": 29,
   "metadata": {
    "colab": {},
    "colab_type": "code",
    "id": "RF0da0TBueeb"
   },
   "outputs": [],
   "source": [
    "enc = Encoder(len(ds.src_word_list), 100, 100, 2)\n",
    "dec = Decoder(len(ds.trg_word_list), 100, 100, 2)\n",
    "enc.to(\"cuda:0\")\n",
    "dec.to(\"cuda:0\")\n",
    "opt_enc = optim.Adam(enc.parameters(), 0.002)\n",
    "opt_dec = optim.Adam(dec.parameters(), 0.002)\n",
    "loss_f = nn.CrossEntropyLoss()"
   ]
  },
  {
   "cell_type": "markdown",
   "metadata": {
    "colab_type": "text",
    "id": "SDmwNm0kpSnt"
   },
   "source": [
    "リスト5.25　モデルの学習部分（損失関数など）"
   ]
  },
  {
   "cell_type": "code",
   "execution_count": 30,
   "metadata": {
    "colab": {},
    "colab_type": "code",
    "id": "d3e8_A3fwJEM"
   },
   "outputs": [
    {
     "name": "stderr",
     "output_type": "stream",
     "text": [
      "100%|██████████| 1883/1883 [00:20<00:00, 93.33it/s]\n"
     ]
    },
    {
     "name": "stdout",
     "output_type": "stream",
     "text": [
      "0 5.242395971280998\n",
      "un poco .\n",
      "que te gusta el lunes .\n",
      "es mi hermano .\n"
     ]
    },
    {
     "name": "stderr",
     "output_type": "stream",
     "text": [
      "100%|██████████| 1883/1883 [00:20<00:00, 92.14it/s]\n"
     ]
    },
    {
     "name": "stdout",
     "output_type": "stream",
     "text": [
      "1 3.085702451568174\n",
      "un hombre .\n",
      "que me gusta comer .\n",
      "mi amigo .\n"
     ]
    },
    {
     "name": "stderr",
     "output_type": "stream",
     "text": [
      "100%|██████████| 1883/1883 [00:20<00:00, 92.71it/s]\n"
     ]
    },
    {
     "name": "stdout",
     "output_type": "stream",
     "text": [
      "2 1.9428363902354835\n",
      "estudiante .\n",
      "que me gusta comer .\n",
      "mi madre .\n"
     ]
    },
    {
     "name": "stderr",
     "output_type": "stream",
     "text": [
      "100%|██████████| 1883/1883 [00:18<00:00, 102.40it/s]\n"
     ]
    },
    {
     "name": "stdout",
     "output_type": "stream",
     "text": [
      "3 1.5463999997917415\n",
      "estudiante .\n",
      "que me gusta comer .\n",
      "mi madre .\n"
     ]
    },
    {
     "name": "stderr",
     "output_type": "stream",
     "text": [
      "100%|██████████| 1883/1883 [00:17<00:00, 104.91it/s]\n"
     ]
    },
    {
     "name": "stdout",
     "output_type": "stream",
     "text": [
      "4 1.33221802604496\n",
      "estudiante .\n",
      "escribiendo unas promesas .\n",
      "mi madre .\n"
     ]
    },
    {
     "name": "stderr",
     "output_type": "stream",
     "text": [
      "100%|██████████| 1883/1883 [00:19<00:00, 97.19it/s] \n"
     ]
    },
    {
     "name": "stdout",
     "output_type": "stream",
     "text": [
      "5 1.1812011601123416\n",
      "un estudiante .\n",
      "escribiendo pizza .\n",
      "mi madre .\n"
     ]
    },
    {
     "name": "stderr",
     "output_type": "stream",
     "text": [
      "100%|██████████| 1883/1883 [00:17<00:00, 106.30it/s]\n"
     ]
    },
    {
     "name": "stdout",
     "output_type": "stream",
     "text": [
      "6 1.064762927089292\n",
      "un estudiante .\n",
      "estudiando como viajar .\n",
      "mi madre .\n"
     ]
    },
    {
     "name": "stderr",
     "output_type": "stream",
     "text": [
      "100%|██████████| 1883/1883 [00:19<00:00, 94.17it/s]\n"
     ]
    },
    {
     "name": "stdout",
     "output_type": "stream",
     "text": [
      "7 0.9737477857763945\n",
      "estudiante .\n",
      "estudiando pizza .\n",
      "mi madre .\n"
     ]
    },
    {
     "name": "stderr",
     "output_type": "stream",
     "text": [
      "100%|██████████| 1883/1883 [00:19<00:00, 94.62it/s]\n"
     ]
    },
    {
     "name": "stdout",
     "output_type": "stream",
     "text": [
      "8 0.9012592214570676\n",
      "un estudiante .\n",
      "estudiando pizza .\n",
      "mi madre .\n"
     ]
    },
    {
     "name": "stderr",
     "output_type": "stream",
     "text": [
      "100%|██████████| 1883/1883 [00:18<00:00, 99.69it/s] \n"
     ]
    },
    {
     "name": "stdout",
     "output_type": "stream",
     "text": [
      "9 0.8407437310089663\n",
      "un estudiante .\n",
      "estudiando pizza .\n",
      "mi madre .\n"
     ]
    },
    {
     "name": "stderr",
     "output_type": "stream",
     "text": [
      "100%|██████████| 1883/1883 [00:18<00:00, 99.86it/s] \n"
     ]
    },
    {
     "name": "stdout",
     "output_type": "stream",
     "text": [
      "10 0.7905195512736154\n",
      "un estudiante .\n",
      "estudiando pizza .\n",
      "mi madre .\n"
     ]
    },
    {
     "name": "stderr",
     "output_type": "stream",
     "text": [
      "100%|██████████| 1883/1883 [00:19<00:00, 97.44it/s] \n"
     ]
    },
    {
     "name": "stdout",
     "output_type": "stream",
     "text": [
      "11 0.7480915688132581\n",
      "un estudiante .\n",
      "estudiando pizza .\n",
      "a mi madre .\n"
     ]
    },
    {
     "name": "stderr",
     "output_type": "stream",
     "text": [
      "100%|██████████| 1883/1883 [00:19<00:00, 98.88it/s] \n"
     ]
    },
    {
     "name": "stdout",
     "output_type": "stream",
     "text": [
      "12 0.7117614750525322\n",
      "estudiante .\n",
      "estudiando pizza .\n",
      "a mi madre .\n"
     ]
    },
    {
     "name": "stderr",
     "output_type": "stream",
     "text": [
      "100%|██████████| 1883/1883 [00:18<00:00, 100.27it/s]\n"
     ]
    },
    {
     "name": "stdout",
     "output_type": "stream",
     "text": [
      "13 0.6802287437120651\n",
      "un estudiante .\n",
      "estudiando pizza .\n",
      "mi madre .\n"
     ]
    },
    {
     "name": "stderr",
     "output_type": "stream",
     "text": [
      "100%|██████████| 1883/1883 [00:18<00:00, 102.46it/s]\n"
     ]
    },
    {
     "name": "stdout",
     "output_type": "stream",
     "text": [
      "14 0.6512451784539843\n",
      "un estudiante .\n",
      "estudiando pizza .\n",
      "mi madre .\n"
     ]
    },
    {
     "name": "stderr",
     "output_type": "stream",
     "text": [
      "100%|██████████| 1883/1883 [00:19<00:00, 94.56it/s] \n"
     ]
    },
    {
     "name": "stdout",
     "output_type": "stream",
     "text": [
      "15 0.6270279909186837\n",
      "estudiante .\n",
      "estudiando pizza .\n",
      "mi madre .\n"
     ]
    },
    {
     "name": "stderr",
     "output_type": "stream",
     "text": [
      "100%|██████████| 1883/1883 [00:19<00:00, 98.78it/s] \n"
     ]
    },
    {
     "name": "stdout",
     "output_type": "stream",
     "text": [
      "16 0.6056245333073434\n",
      "un estudiante .\n",
      "estudiando pizza .\n",
      "a mi madre .\n"
     ]
    },
    {
     "name": "stderr",
     "output_type": "stream",
     "text": [
      "100%|██████████| 1883/1883 [00:18<00:00, 99.80it/s] \n"
     ]
    },
    {
     "name": "stdout",
     "output_type": "stream",
     "text": [
      "17 0.5852929126595919\n",
      "un estudiante .\n",
      "estudiando pizza .\n",
      "mi madre .\n"
     ]
    },
    {
     "name": "stderr",
     "output_type": "stream",
     "text": [
      "100%|██████████| 1883/1883 [00:18<00:00, 99.22it/s] \n"
     ]
    },
    {
     "name": "stdout",
     "output_type": "stream",
     "text": [
      "18 0.5677224363472888\n",
      "un estudiante .\n",
      "estudiando pizza .\n",
      "mi madre .\n"
     ]
    },
    {
     "name": "stderr",
     "output_type": "stream",
     "text": [
      "100%|██████████| 1883/1883 [00:19<00:00, 95.08it/s] \n"
     ]
    },
    {
     "name": "stdout",
     "output_type": "stream",
     "text": [
      "19 0.5495515106620779\n",
      "un estudiante .\n",
      "escribiendo pizza .\n",
      "mi madre .\n"
     ]
    },
    {
     "name": "stderr",
     "output_type": "stream",
     "text": [
      "100%|██████████| 1883/1883 [00:18<00:00, 100.86it/s]\n"
     ]
    },
    {
     "name": "stdout",
     "output_type": "stream",
     "text": [
      "20 0.5351842128717703\n",
      "estudiante .\n",
      "escribiendo pizza .\n",
      "mi madre .\n"
     ]
    },
    {
     "name": "stderr",
     "output_type": "stream",
     "text": [
      "100%|██████████| 1883/1883 [00:19<00:00, 96.36it/s] \n"
     ]
    },
    {
     "name": "stdout",
     "output_type": "stream",
     "text": [
      "21 0.5217355145492645\n",
      "un estudiante .\n",
      "escribiendo pizza .\n",
      "mi madre .\n"
     ]
    },
    {
     "name": "stderr",
     "output_type": "stream",
     "text": [
      "100%|██████████| 1883/1883 [00:19<00:00, 97.81it/s] \n"
     ]
    },
    {
     "name": "stdout",
     "output_type": "stream",
     "text": [
      "22 0.5093263302055749\n",
      "estudiante .\n",
      "estudiando pizza .\n",
      "mi madre .\n"
     ]
    },
    {
     "name": "stderr",
     "output_type": "stream",
     "text": [
      "100%|██████████| 1883/1883 [00:19<00:00, 95.52it/s] \n"
     ]
    },
    {
     "name": "stdout",
     "output_type": "stream",
     "text": [
      "23 0.4962487456112293\n",
      "un estudiante .\n",
      "ganas de comer .\n",
      "tom .\n"
     ]
    },
    {
     "name": "stderr",
     "output_type": "stream",
     "text": [
      "100%|██████████| 1883/1883 [00:19<00:00, 97.00it/s]\n"
     ]
    },
    {
     "name": "stdout",
     "output_type": "stream",
     "text": [
      "24 0.4859953017641241\n",
      "un estudiante .\n",
      "escribiendo pizza .\n",
      "mi madre .\n"
     ]
    },
    {
     "name": "stderr",
     "output_type": "stream",
     "text": [
      "100%|██████████| 1883/1883 [00:19<00:00, 94.46it/s]\n"
     ]
    },
    {
     "name": "stdout",
     "output_type": "stream",
     "text": [
      "25 0.4758744087550973\n",
      "un estudiante .\n",
      "estudiando pizza .\n",
      "mi madre .\n"
     ]
    },
    {
     "name": "stderr",
     "output_type": "stream",
     "text": [
      "100%|██████████| 1883/1883 [00:19<00:00, 97.89it/s] \n"
     ]
    },
    {
     "name": "stdout",
     "output_type": "stream",
     "text": [
      "26 0.4661905406892648\n",
      "estudiante .\n",
      "estudiando pizza .\n",
      "mi madre .\n"
     ]
    },
    {
     "name": "stderr",
     "output_type": "stream",
     "text": [
      "100%|██████████| 1883/1883 [00:18<00:00, 100.95it/s]\n"
     ]
    },
    {
     "name": "stdout",
     "output_type": "stream",
     "text": [
      "27 0.4571379671467788\n",
      "un estudiante .\n",
      "escribiendo pizza .\n",
      "mi madre .\n"
     ]
    },
    {
     "name": "stderr",
     "output_type": "stream",
     "text": [
      "100%|██████████| 1883/1883 [00:19<00:00, 96.51it/s] \n"
     ]
    },
    {
     "name": "stdout",
     "output_type": "stream",
     "text": [
      "28 0.44841414373476834\n",
      "estudiante .\n",
      "escribiendo pizza .\n",
      "mi madre .\n"
     ]
    },
    {
     "name": "stderr",
     "output_type": "stream",
     "text": [
      "100%|██████████| 1883/1883 [00:18<00:00, 100.15it/s]"
     ]
    },
    {
     "name": "stdout",
     "output_type": "stream",
     "text": [
      "29 0.4413809356098155\n",
      "un estudiante .\n",
      "estudiando pizza .\n",
      "tom .\n"
     ]
    },
    {
     "name": "stderr",
     "output_type": "stream",
     "text": [
      "\n"
     ]
    }
   ],
   "source": [
    "from statistics import mean\n",
    "\n",
    "def to2D(x):\n",
    "    shapes = x.shape\n",
    "    return x.reshape(shapes[0] * shapes[1], -1)\n",
    "\n",
    "for epoc in range(30):\n",
    "    # ネットワークを訓練モードにする\n",
    "    enc.train(), dec.train()\n",
    "    losses = []\n",
    "    for x, lx, y, ly in tqdm.tqdm(loader):\n",
    "        # xのPackedSequenceを作るために翻訳元の長さで降順にソート\n",
    "        lx, sort_idx = lx.sort(descending=True)\n",
    "        x, y, ly = x[sort_idx], y[sort_idx], ly[sort_idx]\n",
    "        x, y = x.to(\"cuda:0\"), y.to(\"cuda:0\")\n",
    "        # 翻訳元をEncoderに入れてコンテキストを得る\n",
    "        ctx = enc(x, l=lx)\n",
    "        \n",
    "        # yのPackedSequenceを作るために翻訳先の長さで降順にソート\n",
    "        ly, sort_idx = ly.sort(descending=True)\n",
    "        y = y[sort_idx]\n",
    "        # Decoderの初期値をセット\n",
    "        h0 = (ctx[0][:, sort_idx, :], ctx[1][:, sort_idx, :])\n",
    "        z = y[:, :-1].detach()\n",
    "        # -100のままだとEmbeddingの計算でエラーが出てしまうので値を0に変更しておく\n",
    "        z[z==-100] = 0\n",
    "        # Decoderに通して損失関数を計算\n",
    "        o, _ = dec(z, h0, l=ly-1)\n",
    "        loss = loss_f(to2D(o[:]), to2D(y[:, 1:max(ly)]).squeeze())\n",
    "        # Backpropagation（誤差逆伝播法）を実行\n",
    "        enc.zero_grad(), dec.zero_grad()\n",
    "        loss.backward()\n",
    "        opt_enc.step(), opt_dec.step()\n",
    "        losses.append(loss.item())\n",
    "        \n",
    "    # データセットに対して一通り計算したら現在の\n",
    "    # 損失関数の値や翻訳結果を表示\n",
    "    enc.eval(), dec.eval()\n",
    "    print(epoc, mean(losses))\n",
    "    with torch.no_grad():\n",
    "        print(translate(\"I am a student.\",\n",
    "                         enc, dec, max_len=max_len, device=\"cuda:0\"))\n",
    "        print(translate(\"He likes to eat pizza.\",\n",
    "                         enc, dec, max_len=max_len, device=\"cuda:0\"))\n",
    "        print(translate(\"She is my mother.\",\n",
    "                         enc, dec, max_len=max_len, device=\"cuda:0\"))"
   ]
  },
  {
   "cell_type": "code",
   "execution_count": 21,
   "metadata": {},
   "outputs": [],
   "source": [
    "# I am a student.\tSoy estudiante.\n",
    "# I am a student.\tSoy un estudiante.\n",
    "\n",
    "# He likes to run.\tLe gusta correr.\n",
    "\n",
    "\n",
    "# She is my dream girl.\tElla es mi mujer ideal.\n",
    "# She is my dream girl.\tElla es la chica de mis sueños.\n",
    "# She is my girlfriend.\tElla es mi novia.\n",
    "# She is my girlfriend.\tElla es amiga mía.\n",
    "# She is my girlfriend.\tElla es mi amiga.\n",
    "# She is my girlfriend.\tEs mi novia."
   ]
  },
  {
   "cell_type": "markdown",
   "metadata": {},
   "source": []
  },
  {
   "cell_type": "code",
   "execution_count": null,
   "metadata": {},
   "outputs": [],
   "source": []
  }
 ],
 "metadata": {
  "kernelspec": {
   "display_name": "Python 3.9.6 ('.venv': pipenv)",
   "language": "python",
   "name": "python3"
  },
  "language_info": {
   "codemirror_mode": {
    "name": "ipython",
    "version": 3
   },
   "file_extension": ".py",
   "mimetype": "text/x-python",
   "name": "python",
   "nbconvert_exporter": "python",
   "pygments_lexer": "ipython3",
   "version": "3.9.6"
  },
  "orig_nbformat": 4,
  "vscode": {
   "interpreter": {
    "hash": "6b9f220186b1679e4c67686f80c503f2a68b9789d94e8dfa473b7907788bc702"
   }
  }
 },
 "nbformat": 4,
 "nbformat_minor": 2
}
