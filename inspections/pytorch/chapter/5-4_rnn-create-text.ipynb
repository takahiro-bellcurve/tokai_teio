{
 "cells": [
  {
   "cell_type": "markdown",
   "metadata": {},
   "source": []
  },
  {
   "cell_type": "code",
   "execution_count": 1,
   "metadata": {},
   "outputs": [],
   "source": [
    "import string "
   ]
  },
  {
   "cell_type": "code",
   "execution_count": 2,
   "metadata": {},
   "outputs": [],
   "source": [
    "all_chars = string.printable\n",
    "vocab_size = len(all_chars)\n",
    "vocab_dict = dict((c, i) for (i, c) in enumerate(all_chars))\n",
    "\n",
    "def str2ints(s, vocab_dict):\n",
    "  return [vocab_dict[c] for c in s]\n",
    "\n",
    "def ints2str(x, vocab_array):\n",
    "  return \"\".join([vocab_array[i] for i in x])"
   ]
  },
  {
   "cell_type": "code",
   "execution_count": 3,
   "metadata": {},
   "outputs": [
    {
     "name": "stderr",
     "output_type": "stream",
     "text": [
      "/home/tk/university/zemi/pytorch/.venv/lib/python3.9/site-packages/tqdm/auto.py:22: TqdmWarning: IProgress not found. Please update jupyter and ipywidgets. See https://ipywidgets.readthedocs.io/en/stable/user_install.html\n",
      "  from .autonotebook import tqdm as notebook_tqdm\n"
     ]
    }
   ],
   "source": [
    "import torch\n",
    "from torch import nn, optim\n",
    "from torch.utils.data import Dataset, DataLoader\n",
    "import tqdm"
   ]
  },
  {
   "cell_type": "code",
   "execution_count": 4,
   "metadata": {},
   "outputs": [],
   "source": [
    "class ShakespeareDataset(Dataset):\n",
    "  def __init__(self, path, chunk_size=200):\n",
    "    data = str2ints(open(path).read().strip(), vocab_dict)\n",
    "    data = torch.tensor(data, dtype=torch.int64).split(chunk_size)\n",
    "\n",
    "    if len(data[-1]) < chunk_size:\n",
    "      data = data[: -1]\n",
    "    \n",
    "    self.data = data\n",
    "    self.n_chunks = len(self.data)\n",
    "  \n",
    "  def __len__(self):\n",
    "    return self.n_chunks\n",
    "\n",
    "  def __getitem__(self, idx):\n",
    "    return self.data[idx]"
   ]
  },
  {
   "cell_type": "code",
   "execution_count": 5,
   "metadata": {},
   "outputs": [],
   "source": [
    "ds = ShakespeareDataset(\"../data/tinyshakespeare/input.txt\", chunk_size=200)\n",
    "loader = DataLoader(ds, batch_size=32, shuffle=True, num_workers=4)"
   ]
  },
  {
   "cell_type": "code",
   "execution_count": 6,
   "metadata": {},
   "outputs": [],
   "source": [
    "class SequenceGenerationNet(nn.Module):\n",
    "  def __init__(self, num_embeddings, embedding_dim=50, hidden_size=50, num_layers=1, dropout=0.2):\n",
    "    super().__init__()\n",
    "    self.emb = nn.Embedding(num_embeddings, embedding_dim)\n",
    "    self.lstm = nn.LSTM(embedding_dim, hidden_size, num_layers,batch_first=True, dropout=dropout)\n",
    "    self.linear = nn.Linear(hidden_size, num_embeddings)\n",
    "\n",
    "  def forward(self, x, h0=None):\n",
    "    x = self.emb(x)\n",
    "    x, h = self.lstm(x, h0)\n",
    "    x = self.linear(x)\n",
    "    return x, h"
   ]
  },
  {
   "cell_type": "code",
   "execution_count": 7,
   "metadata": {},
   "outputs": [],
   "source": [
    "def generate_seq(net, start_phrase=\"The King said\", length=200, temperature=0.8, device=\"cpu\"):\n",
    "    net.eval()\n",
    "    result = []\n",
    "\n",
    "    start_tensor = torch.tensor(\n",
    "      str2ints(start_phrase, vocab_dict),\n",
    "      dtype=torch.int64\n",
    "    ).to(device)\n",
    "\n",
    "    x0 = start_tensor.unsqueeze(0)\n",
    "    o, h = net(x0)\n",
    "    out_dist = o[:, -1].view(-1).exp()\n",
    "    top_i = torch.multinomial(out_dist, 1)[0]\n",
    "    result.append(top_i)\n",
    "\n",
    "    for i in range(length):\n",
    "      inp =torch.tensor([[top_i]], dtype=torch.int64)\n",
    "      inp = inp.to(device)\n",
    "      o, h = net(inp, h)\n",
    "      out_dist = o.view(-1).exp()\n",
    "      top_i = torch.multinomial(out_dist, 1)[0]\n",
    "      result.append(top_i)\n",
    "\n",
    "    return start_phrase + ints2str(result, all_chars)"
   ]
  },
  {
   "cell_type": "code",
   "execution_count": 8,
   "metadata": {},
   "outputs": [],
   "source": [
    "from statistics import mean"
   ]
  },
  {
   "cell_type": "code",
   "execution_count": 9,
   "metadata": {},
   "outputs": [
    {
     "name": "stderr",
     "output_type": "stream",
     "text": [
      "100%|██████████| 175/175 [00:00<00:00, 221.72it/s]\n"
     ]
    },
    {
     "name": "stdout",
     "output_type": "stream",
     "text": [
      "0 3.488059459413801\n",
      "The King saidTHt\n",
      " ae\n",
      " eue lrd ehwlcegh-r  otneIr hm;Aemrs,a,d, sprohy midD,dr'w h oydrr isoIa stemwU eM?aehdg:,l .vi I t!srE IB\n",
      "t okY ou tdn \",isal t\n",
      "p \n",
      "iramn ri ofloeba\n",
      "dasresIevcr i e\n",
      "ehR\n",
      "sr\n",
      " tbghecoE  Qia i y .l\n"
     ]
    },
    {
     "name": "stderr",
     "output_type": "stream",
     "text": [
      "100%|██████████| 175/175 [00:00<00:00, 303.99it/s]\n"
     ]
    },
    {
     "name": "stdout",
     "output_type": "stream",
     "text": [
      "1 2.970314734322684\n",
      "The King saids\n",
      "noer t ane ie fa tupe the;\n",
      ":a tot, o osghe;GIf mdane eone ta ees-u, yeo.\n",
      "EE:\n",
      "I\n",
      " o Neee shat wtlsahr\n",
      "u the a;d'D\n",
      "Wacroe siramd Enitgr fhtato wai bttrkdsasPre ia, bo masWdtlr wuae the kmid ea mue tiau,\n"
     ]
    },
    {
     "name": "stderr",
     "output_type": "stream",
     "text": [
      "100%|██████████| 175/175 [00:00<00:00, 309.38it/s]\n"
     ]
    },
    {
     "name": "stdout",
     "output_type": "stream",
     "text": [
      "2 2.6139691652570454\n",
      "The King saidn?\n",
      "Cy, to thos'\n",
      "At hhre piks!\n",
      "Tolw ilte te sinr alte! lirh tisy\n",
      "Rot,\n",
      "Toacaurte ny rair:\n",
      "LOrous,\n",
      "Iy in wnite dool teve oungth akt or tyekn:A\n",
      "Woarid sumdiwe irtiothy\n",
      "Trod\n",
      "Kirrme ltany who'an, Idd darinar\n"
     ]
    },
    {
     "name": "stderr",
     "output_type": "stream",
     "text": [
      "100%|██████████| 175/175 [00:00<00:00, 304.11it/s]\n"
     ]
    },
    {
     "name": "stdout",
     "output_type": "stream",
     "text": [
      "3 2.435921277999878\n",
      "The King said O #umt met enmelas ae is; fase ciflo, mtra seterd te tee hith foulh\n",
      "I shert, hes ist.\n",
      "\n",
      "TIR IVOI:\n",
      "Fhes moimt a heu firt,, sukle tin rou ow wavyth Worto: geag as:\n",
      "ATinir sopgith fentoren casiufrargew fu\n"
     ]
    },
    {
     "name": "stderr",
     "output_type": "stream",
     "text": [
      "100%|██████████| 175/175 [00:00<00:00, 297.91it/s]\n"
     ]
    },
    {
     "name": "stdout",
     "output_type": "stream",
     "text": [
      "4 2.3373847307477678\n",
      "The King said:\n",
      "Uood fou.\n",
      "Anlr hacl.\n",
      "\n",
      "LRENI:\n",
      "Whith goumt altey, sheetifoealc,\n",
      "Goid don lathhe\n",
      "She waad walg thee\n",
      "This metth;\n",
      "Fos let thon the m ue hesrese\n",
      "Thon, lem, gapst hoxsd soovr ofurd-Mrh pamits ty with geiml\n",
      "\n"
     ]
    },
    {
     "name": "stderr",
     "output_type": "stream",
     "text": [
      "100%|██████████| 175/175 [00:00<00:00, 295.47it/s]\n"
     ]
    },
    {
     "name": "stdout",
     "output_type": "stream",
     "text": [
      "5 2.2687888159070697\n",
      "The King said wotpet sift -oul Roed dapof.\n",
      "\n",
      "TURRCIRGNIE:\n",
      "The Iror mishict oh the lfourlf rotais hovy yoos thind of het; mashen, miseed, but we pame ant yuver goll, mane fuved bolh Pomles Borese wil waas foet filund\n"
     ]
    },
    {
     "name": "stderr",
     "output_type": "stream",
     "text": [
      "100%|██████████| 175/175 [00:00<00:00, 300.22it/s]\n"
     ]
    },
    {
     "name": "stdout",
     "output_type": "stream",
     "text": [
      "6 2.211417372567313\n",
      "The King said brorend an, be; and svepyly wiver dothy do: me., theweg on.\n",
      "Buvathll nart shit fael!\n",
      "Nhan now ored of, thatn is a hians furle thy he!\n",
      "Figes houch cestipeith me tet!o\n",
      "Bi's pevet, eeUCifret, sees yount \n"
     ]
    },
    {
     "name": "stderr",
     "output_type": "stream",
     "text": [
      "100%|██████████| 175/175 [00:00<00:00, 304.05it/s]\n"
     ]
    },
    {
     "name": "stdout",
     "output_type": "stream",
     "text": [
      "7 2.1618863677978517\n",
      "The King said to tut thing no, bracess and and p, pisrarple woue', thit ang teln.o yAr youll wirt-as taak me jars\n",
      "Couf at. Is grabife fobe, my Japumey is\n",
      "Wave soulb: hoeder!\n",
      "\n",
      "UAME UCELATB:\n",
      "The ard letheo weard:\n",
      "And\n"
     ]
    },
    {
     "name": "stderr",
     "output_type": "stream",
     "text": [
      "100%|██████████| 175/175 [00:00<00:00, 306.19it/s]\n"
     ]
    },
    {
     "name": "stdout",
     "output_type": "stream",
     "text": [
      "8 2.1197132778167727\n",
      "The King said\n",
      "It entoked to hot this best!:\n",
      "Har whessesell sewing his the\n",
      "wraster surnce, hithount,\n",
      "And reisher geed,\n",
      "The or serech vlock both siy, wourd,\n",
      "Pave ol-e call Grorcomesilr gy me feo}h; thy rethecte.R\n",
      "The\n"
     ]
    },
    {
     "name": "stderr",
     "output_type": "stream",
     "text": [
      "100%|██████████| 175/175 [00:00<00:00, 301.33it/s]\n"
     ]
    },
    {
     "name": "stdout",
     "output_type": "stream",
     "text": [
      "9 2.084376279285976\n",
      "The King said\n",
      "Whem frreciger, is sicice peaust loed wel for this not thut brove as lidsh drime traukts Traee weld wire.\n",
      "This:\n",
      "Wat tett,\n",
      "Dutl.\n",
      "Shit-red\n",
      "Wetiang baccher brothed.\n",
      "\n",
      "KALNERLD:\n",
      "Wo whe iish't bere\n",
      "o- shour\n"
     ]
    },
    {
     "name": "stderr",
     "output_type": "stream",
     "text": [
      "100%|██████████| 175/175 [00:00<00:00, 313.01it/s]\n"
     ]
    },
    {
     "name": "stdout",
     "output_type": "stream",
     "text": [
      "10 2.053016045434134\n",
      "The King saides, too at her dints fraand are alf weer peeber, knevay cafeou fart of men, curse sece; thysere''n b,\n",
      "Sreae! and thou ip set, talr trid to feres sey'rs I my uncoctire but sho lote bat the and theus mis\n"
     ]
    },
    {
     "name": "stderr",
     "output_type": "stream",
     "text": [
      "100%|██████████| 175/175 [00:00<00:00, 297.95it/s]\n"
     ]
    },
    {
     "name": "stdout",
     "output_type": "stream",
     "text": [
      "11 2.025174855504717\n",
      "The King saidbters\n",
      "Weace\n",
      "Wrediag the dowould paye!\n",
      "What, ach gonstort I sum's reve and be famasn bud the he to sherists thind:\n",
      "I thin old than's\n",
      "Whan rodering a woncingirsteortoar Lust me.\n",
      "\n",
      "GEROOR:\n",
      "Mlass:\n",
      "Jaed to g\n"
     ]
    },
    {
     "name": "stderr",
     "output_type": "stream",
     "text": [
      "100%|██████████| 175/175 [00:00<00:00, 309.50it/s]\n"
     ]
    },
    {
     "name": "stdout",
     "output_type": "stream",
     "text": [
      "12 2.0002357959747314\n",
      "The King said,\n",
      "But arge Guke that bil frow but have but spe prakes mine\n",
      "Mathil co be deacy for my mute will enson alang fibhes? 'art Grordofsat, prit't. Ase's excet shaffs; lave a hy liver jutr'nd man? arpuch her o\n"
     ]
    },
    {
     "name": "stderr",
     "output_type": "stream",
     "text": [
      "100%|██████████| 175/175 [00:00<00:00, 303.26it/s]\n"
     ]
    },
    {
     "name": "stdout",
     "output_type": "stream",
     "text": [
      "13 1.9786143677575248\n",
      "The King said deal love a fean, now four beress frot:\n",
      "Mervicull,\n",
      "I a, put mach would,\n",
      "So they pranking,\n",
      "Merar: ither so your lest you our may as shay not U5ome wencivery wenlrice's plave sorther: in day my on's fea\n"
     ]
    },
    {
     "name": "stderr",
     "output_type": "stream",
     "text": [
      "100%|██████████| 175/175 [00:00<00:00, 307.55it/s]\n"
     ]
    },
    {
     "name": "stdout",
     "output_type": "stream",
     "text": [
      "14 1.9576734576906476\n",
      "The King said now the hom rets wuve's your our all you stleand old me the both shil the for for on of her hen speet not wear,-bed we whow\n",
      "Sinting eakesher rhaved be of semers a unkeer'd moke,\n",
      "And pide as qaast, mlo\n"
     ]
    },
    {
     "name": "stderr",
     "output_type": "stream",
     "text": [
      "100%|██████████| 175/175 [00:00<00:00, 318.53it/s]\n"
     ]
    },
    {
     "name": "stdout",
     "output_type": "stream",
     "text": [
      "15 1.9393853793825422\n",
      "The King said;\n",
      "'NOrtsell thy torpice, heosg bear?\n",
      "Sorgherer Sourfen of you carces'd thou take the quated sall-O Buthist mart ace not:\n",
      "And law?\n",
      "\n",
      "MLARETI:\n",
      "Now lo no I in all liiced speote mere.\n",
      "\n",
      "First sown:\n",
      "Revering \n"
     ]
    },
    {
     "name": "stderr",
     "output_type": "stream",
     "text": [
      "100%|██████████| 175/175 [00:00<00:00, 304.41it/s]\n"
     ]
    },
    {
     "name": "stdout",
     "output_type": "stream",
     "text": [
      "16 1.9216908059801374\n",
      "The King said\n",
      "This stay dyon. Af deanct\n",
      "I your heck a lost.\n",
      "\n",
      "CrORTIRE:\n",
      "Sand\n",
      "sone my fey'st is hellough lidone for comeoge; I, 'nole withen hasmarres be that wat.\n",
      "\n",
      "MARVITIO:\n",
      "I shell no\n",
      "bill, and poor.\n",
      "\n",
      "BENENGIIZ:\n",
      "He\n"
     ]
    },
    {
     "name": "stderr",
     "output_type": "stream",
     "text": [
      "100%|██████████| 175/175 [00:00<00:00, 307.54it/s]\n"
     ]
    },
    {
     "name": "stdout",
     "output_type": "stream",
     "text": [
      "17 1.9045919322967528\n",
      "The King said, wount know whe, case hill my kchep; nuve were is have not! Bigh, and that somes thy treap Wartrusrer it hent in at I frorse; yough praancience.\n",
      "\n",
      "Nist:\n",
      "We\n",
      "bortition, Mepour.\n",
      "\n",
      "POMIOLL:\n",
      "Fill latterened,\n"
     ]
    },
    {
     "name": "stderr",
     "output_type": "stream",
     "text": [
      "100%|██████████| 175/175 [00:00<00:00, 298.50it/s]\n"
     ]
    },
    {
     "name": "stdout",
     "output_type": "stream",
     "text": [
      "18 1.8895937388283865\n",
      "The King said thipperiig\n",
      "Shate laust-tres Sowmion, good now my four and chank.\n",
      "\n",
      "KING RICHARD III:\n",
      "Bo falroet his ned os arts to to floms batt on hage-Peres! His mery nises arar nowy in te love\n",
      "The.\n",
      "And am: moddist.\n"
     ]
    },
    {
     "name": "stderr",
     "output_type": "stream",
     "text": [
      "100%|██████████| 175/175 [00:00<00:00, 303.70it/s]\n"
     ]
    },
    {
     "name": "stdout",
     "output_type": "stream",
     "text": [
      "19 1.8760637031282696\n",
      "The King said:\n",
      "Hoy pucherts trommone: till recle your titray our prevaike?\n",
      "\n",
      "Poon:\n",
      "I go's ook, at and my fear abiroic, good free's thoen forfor then agay wat!\n",
      "\n",
      "URINIUS:\n",
      "Nom doweraming as a cronge net, foo his say sh\n"
     ]
    },
    {
     "name": "stderr",
     "output_type": "stream",
     "text": [
      "100%|██████████| 175/175 [00:00<00:00, 307.97it/s]\n"
     ]
    },
    {
     "name": "stdout",
     "output_type": "stream",
     "text": [
      "20 1.863451715196882\n",
      "The King saidound spovel with with came Vurging saudege, go meam, wese his dathens?\n",
      "\n",
      "DUM ICCLINCE:\n",
      "Is a his lack\n",
      "The reind;\n",
      "A'll it ip had misers,\n",
      "And sormored greading, thy sir, but you ar, him fliot and thing\n",
      "Or \n"
     ]
    },
    {
     "name": "stderr",
     "output_type": "stream",
     "text": [
      "100%|██████████| 175/175 [00:00<00:00, 300.87it/s]\n"
     ]
    },
    {
     "name": "stdout",
     "output_type": "stream",
     "text": [
      "21 1.8526440940584454\n",
      "The King saidold heart mersine and slady hiss your to hangunt the tomut need lo,ne nay fill but Andy seal fakathtio'd that my four my twert our lowe\n",
      "Guschang feine do righm,\n",
      "Hollo offurt in the have not ane prome, \n"
     ]
    },
    {
     "name": "stderr",
     "output_type": "stream",
     "text": [
      "100%|██████████| 175/175 [00:00<00:00, 303.82it/s]\n"
     ]
    },
    {
     "name": "stdout",
     "output_type": "stream",
     "text": [
      "22 1.841626477922712\n",
      "The King said to make I must hart bray so, sir dead I ingelly sous-shouch by foy were.\n",
      "\n",
      "CLAKINA FIBRATE:\n",
      "O rust, Mest grine not can\n",
      "fare I young to know undemant town duth unn moor:\n",
      "All thas it lo firing stors\n",
      "Than\n"
     ]
    },
    {
     "name": "stderr",
     "output_type": "stream",
     "text": [
      "100%|██████████| 175/175 [00:00<00:00, 298.35it/s]\n"
     ]
    },
    {
     "name": "stdout",
     "output_type": "stream",
     "text": [
      "23 1.8304824209213257\n",
      "The King said be praigess! whrais.\n",
      "\n",
      "Forn woust:\n",
      "My kind, dies watarn gacest. Sompengmlemy my hint,\n",
      "To heaping to resirp'd do it\n",
      "thy the heart bands of were us shall me men\n",
      "To know lilf abuce my careber your with\n",
      "Fo\n"
     ]
    },
    {
     "name": "stderr",
     "output_type": "stream",
     "text": [
      "100%|██████████| 175/175 [00:00<00:00, 309.59it/s]\n"
     ]
    },
    {
     "name": "stdout",
     "output_type": "stream",
     "text": [
      "24 1.821442973954337\n",
      "The King said.\n",
      "A to Angy what viertion ingors one to landitient that, hive thie you reak of ald I, dointan, for do broble anent.\n",
      "\n",
      "HENRY TINWIBE:\n",
      "Mathany; the do,\n",
      "Be ond my comitbter\n",
      "Whipsend this my bestion,\n",
      "but th\n"
     ]
    },
    {
     "name": "stderr",
     "output_type": "stream",
     "text": [
      "100%|██████████| 175/175 [00:00<00:00, 312.41it/s]\n"
     ]
    },
    {
     "name": "stdout",
     "output_type": "stream",
     "text": [
      "25 1.8129299994877406\n",
      "The King said I i dosech of Baster, hert not true love aponies, and\n",
      "farer; at thou that demself what sea was and fetper frot my bore tibel pantore, thou.\n",
      "\n",
      "BABETLAUOS:\n",
      "A eme, your rothiok nod onair a perred thy tont\n"
     ]
    },
    {
     "name": "stderr",
     "output_type": "stream",
     "text": [
      "100%|██████████| 175/175 [00:00<00:00, 306.70it/s]\n"
     ]
    },
    {
     "name": "stdout",
     "output_type": "stream",
     "text": [
      "26 1.8042190034048897\n",
      "The King said very shee,\n",
      "But wagh, heng hand in talcom,\n",
      "Hurk I you aar her Meake is pender'd an laply?\n",
      "\n",
      "ROKE LONDAAN:\n",
      "I so bud yous, it no do with lidicon's.\n",
      "\n",
      "ANGEOS:\n",
      "We shall gancent,\n",
      "Are doth brownisend.\n",
      "\n",
      "LAD:\n",
      "Th\n"
     ]
    },
    {
     "name": "stderr",
     "output_type": "stream",
     "text": [
      "100%|██████████| 175/175 [00:00<00:00, 295.87it/s]\n"
     ]
    },
    {
     "name": "stdout",
     "output_type": "stream",
     "text": [
      "27 1.7971622467041015\n",
      "The King said we is cimey's wis tosion: her a gobblewer right's loze.\n",
      "\n",
      "PETHY BOLINYBEBO:\n",
      "Reven bud this have\n",
      "now,\n",
      "Which my day of, goodt the tousen, my haed, it foo gocd awwast, thou day be got the hore thou-did ha\n"
     ]
    },
    {
     "name": "stderr",
     "output_type": "stream",
     "text": [
      "100%|██████████| 175/175 [00:00<00:00, 310.67it/s]\n"
     ]
    },
    {
     "name": "stdout",
     "output_type": "stream",
     "text": [
      "28 1.7895152289526803\n",
      "The King said you Povlue, sue caring dithle to cannots\n",
      "net barniaged sio!\n",
      "\n",
      "ROME:\n",
      "Ay, fose I chentkord more did my mistil to be shall heodif his ploning our prest reper faoke, that: the king?\n",
      "What you; I muffall,\n",
      "Ca\n"
     ]
    },
    {
     "name": "stderr",
     "output_type": "stream",
     "text": [
      "100%|██████████| 175/175 [00:00<00:00, 311.95it/s]\n"
     ]
    },
    {
     "name": "stdout",
     "output_type": "stream",
     "text": [
      "29 1.781894349370684\n",
      "The King said! the fimel\n",
      "To be's for, as dow unjuld of pore, now of the husanitherdry\n",
      "Ere and knight to theres her even my, howing Botarse\n",
      "Maith'd the parted a nemming this Borventeching fray,\n",
      "With the will mave me\n"
     ]
    },
    {
     "name": "stderr",
     "output_type": "stream",
     "text": [
      "100%|██████████| 175/175 [00:00<00:00, 308.00it/s]\n"
     ]
    },
    {
     "name": "stdout",
     "output_type": "stream",
     "text": [
      "30 1.774490761075701\n",
      "The King said Of oo my hears? my him.\n",
      "\n",
      "ANTISIAN:\n",
      "Wittatter:\n",
      "'I'll any from them here:\n",
      "Geen's bares well inle nor the heartent despard to like is prepell, for no lost, ho late,\n",
      "Anfeid; I knooring untilligns from afu\n"
     ]
    },
    {
     "name": "stderr",
     "output_type": "stream",
     "text": [
      "100%|██████████| 175/175 [00:00<00:00, 301.18it/s]\n"
     ]
    },
    {
     "name": "stdout",
     "output_type": "stream",
     "text": [
      "31 1.7677757930755615\n",
      "The King said thas it,\n",
      "Cundaigers: heic!\n",
      "\n",
      "LUCIO:\n",
      "My buire.\n",
      "\n",
      "PRATESY OF ANGERK:\n",
      "Ghistly dispiin my worth'd they kore the wul have mase dasburius trown lees hat a dose.\n",
      "\n",
      "HETHEMINIF:\n",
      "And, on them lesnich he man?\n",
      "\n",
      "SEBE\n"
     ]
    },
    {
     "name": "stderr",
     "output_type": "stream",
     "text": [
      "100%|██████████| 175/175 [00:00<00:00, 295.34it/s]\n"
     ]
    },
    {
     "name": "stdout",
     "output_type": "stream",
     "text": [
      "32 1.761569174357823\n",
      "The King said expleent, 'link:\n",
      "I morray to charge!, O, and thing of the doenish,\n",
      "Or mure known our we'ch marly, the tongeth do compences, marlest as pring\n",
      "Iuply uplatule,\n",
      "By Wrome Our give,\n",
      "Asfuch stace. There, is \n"
     ]
    },
    {
     "name": "stderr",
     "output_type": "stream",
     "text": [
      "100%|██████████| 175/175 [00:00<00:00, 306.32it/s]\n"
     ]
    },
    {
     "name": "stdout",
     "output_type": "stream",
     "text": [
      "33 1.7559507213320051\n",
      "The King said, morder;\n",
      "If wo, clay,\n",
      "To gain I stuch to knowr, my your no but thy precome.\n",
      "\n",
      "ISABELLA:\n",
      "I stay mate with now same,\n",
      "Doo rejriedl, croul of death'd my poas,\n",
      "To you be not wefhace have in lake his drame, \n"
     ]
    },
    {
     "name": "stderr",
     "output_type": "stream",
     "text": [
      "100%|██████████| 175/175 [00:00<00:00, 311.75it/s]\n"
     ]
    },
    {
     "name": "stdout",
     "output_type": "stream",
     "text": [
      "34 1.7495978212356567\n",
      "The King said!\n",
      "To mines,\n",
      "Cfow to gaden, do.\n",
      "These's came is the vopt night's of.\n",
      "\n",
      "Seshang:\n",
      "What brince worster theal rident exnot mmadce. \n",
      "zirmiticunce:\n",
      "I'll heard;\n",
      "Or thought unto is abkash's not all life! you:\n",
      "Ri\n"
     ]
    },
    {
     "name": "stderr",
     "output_type": "stream",
     "text": [
      "100%|██████████| 175/175 [00:00<00:00, 293.11it/s]\n"
     ]
    },
    {
     "name": "stdout",
     "output_type": "stream",
     "text": [
      "35 1.743501227923802\n",
      "The King said, be so, and tean nonard! home fitely wever at not steet\n",
      "And, Fuike and will it, this be't of thou I do, you worred gopfers: risse.\n",
      "\n",
      "APLOrD Gard:\n",
      "No mequen, sene;\n",
      "May then my mmnays,\n",
      "Cearn my take royg\n"
     ]
    },
    {
     "name": "stderr",
     "output_type": "stream",
     "text": [
      "100%|██████████| 175/175 [00:00<00:00, 300.06it/s]\n"
     ]
    },
    {
     "name": "stdout",
     "output_type": "stream",
     "text": [
      "36 1.7393581349509104\n",
      "The King said love:\n",
      "That eral hey, Hight brease, my spieth this stidth sears!\n",
      "Why, be shake\n",
      "'Es the rial thon gle of cutco jutess have; than this be's offer, what his in will care choper,\n",
      "Come, whou weres the mrice\n"
     ]
    },
    {
     "name": "stderr",
     "output_type": "stream",
     "text": [
      "100%|██████████| 175/175 [00:00<00:00, 304.99it/s]\n"
     ]
    },
    {
     "name": "stdout",
     "output_type": "stream",
     "text": [
      "37 1.733995246887207\n",
      "The King said dear'\n",
      "And thysish, I drink yours! I minortle to muncacious dedal better bedent and love it tought should let batters; what quittis--Now I know, onate to there thee-coples,\n",
      "Is the-hoint\n",
      "Beate.\n",
      "We jentw\n"
     ]
    },
    {
     "name": "stderr",
     "output_type": "stream",
     "text": [
      "100%|██████████| 175/175 [00:00<00:00, 296.40it/s]\n"
     ]
    },
    {
     "name": "stdout",
     "output_type": "stream",
     "text": [
      "38 1.7289231640951974\n",
      "The King said of your unkucn wot you enand should befuce drose.\n",
      "\n",
      "GLOUCESTER:\n",
      "Cwold bake hand, where minimy\n",
      "To a love Gurctence afory to atters and his sirk in my hore amence\n",
      "While I than\n",
      "From commandys.\n",
      "\n",
      "BUCWICK:\n",
      "N\n"
     ]
    },
    {
     "name": "stderr",
     "output_type": "stream",
     "text": [
      "100%|██████████| 175/175 [00:00<00:00, 298.08it/s]\n"
     ]
    },
    {
     "name": "stdout",
     "output_type": "stream",
     "text": [
      "39 1.7252589743477957\n",
      "The King said fook nant, mander:\n",
      "I recome thy plit.\n",
      "To talk of do long thouy efes\n",
      "Beires.\n",
      "\n",
      "LEO:\n",
      "My bracks\n",
      "In love Tome bown, say, my sbe, still:\n",
      "My.\n",
      "Come of a poon thest worth care,\n",
      "But thy plood man.\n",
      "\n",
      "GcuManor:\n",
      "I \n"
     ]
    },
    {
     "name": "stderr",
     "output_type": "stream",
     "text": [
      "100%|██████████| 175/175 [00:00<00:00, 301.03it/s]\n"
     ]
    },
    {
     "name": "stdout",
     "output_type": "stream",
     "text": [
      "40 1.72071350642613\n",
      "The King said.\n",
      "Ecfiting my sople give down old sird,\n",
      "Or it thou holds their ears,\n",
      "Then in this piring the,\n",
      "What it not kone our not with your wall forten of the lary have in swead heart thou orqueract:\n",
      "A spasebnof,\n"
     ]
    },
    {
     "name": "stderr",
     "output_type": "stream",
     "text": [
      "100%|██████████| 175/175 [00:00<00:00, 302.25it/s]\n"
     ]
    },
    {
     "name": "stdout",
     "output_type": "stream",
     "text": [
      "41 1.7164857700892857\n",
      "The King said, and then: and bids, in it good the such'd,\n",
      "My scopad'st at up ne gor:\n",
      "O umancood,\n",
      "A san mand, it for thou state flats, dowy in mistregul: theld, whose; for you hoose, my noper so not to your goem; Si\n"
     ]
    },
    {
     "name": "stderr",
     "output_type": "stream",
     "text": [
      "100%|██████████| 175/175 [00:00<00:00, 296.46it/s]\n"
     ]
    },
    {
     "name": "stdout",
     "output_type": "stream",
     "text": [
      "42 1.7128481456211635\n",
      "The King said.\n",
      "\n",
      "DUKE VINCENTIO:\n",
      "Well, I priftiniment, you son; pofe twrecther watcher'stant\n",
      "Iuven their hands\n",
      "Weally, the remoly'nd you's heart in at wrester.\n",
      "\n",
      "GREMIO:\n",
      "Of'd he he whet of the wancond.G would I prant\n"
     ]
    },
    {
     "name": "stderr",
     "output_type": "stream",
     "text": [
      "100%|██████████| 175/175 [00:00<00:00, 299.95it/s]\n"
     ]
    },
    {
     "name": "stdout",
     "output_type": "stream",
     "text": [
      "43 1.708546233177185\n",
      "The King said desire make him timure been.\n",
      "\n",
      "WARWARTIL:\n",
      "The now be.\n",
      "\n",
      "TRANIO:\n",
      "Pearmonity;\n",
      "What I shate;\n",
      "You recould in not a provey traint--to qureat, you, but I fron of yourself; where hearter will thou! should and \n"
     ]
    },
    {
     "name": "stderr",
     "output_type": "stream",
     "text": [
      "100%|██████████| 175/175 [00:00<00:00, 298.57it/s]\n"
     ]
    },
    {
     "name": "stdout",
     "output_type": "stream",
     "text": [
      "44 1.7050534043993268\n",
      "The King said you\n",
      "I bricy as spead,\n",
      "And oflent would their now\n",
      "Endon the holan's thank ond a to one agreed?\n",
      "\n",
      "Sherhertans: the heath brews unworthan and thee in your baight rit and how prowly\n",
      "Hordiece do, and pracio\n"
     ]
    },
    {
     "name": "stderr",
     "output_type": "stream",
     "text": [
      "100%|██████████| 175/175 [00:00<00:00, 283.25it/s]\n"
     ]
    },
    {
     "name": "stdout",
     "output_type": "stream",
     "text": [
      "45 1.7020032044819424\n",
      "The King said,\n",
      "You forthing mishemose, you in your ward him, but queesont, healices the excuint;\n",
      "Or had hort which a.\n",
      "\n",
      "KAMINA:\n",
      "And and knevener\n",
      "Oget fallieg'd; when sone commorisiful unmuse you.\n",
      "Maice, for the stea\n"
     ]
    },
    {
     "name": "stderr",
     "output_type": "stream",
     "text": [
      "100%|██████████| 175/175 [00:00<00:00, 308.41it/s]\n"
     ]
    },
    {
     "name": "stdout",
     "output_type": "stream",
     "text": [
      "46 1.6983100707190377\n",
      "The King said'd my sing;\n",
      "Signfore not good,\n",
      "Well lever him if\n",
      "paticionfers, was a non\n",
      "We hopemant what.,\n",
      "That lown: norres in not\n",
      "Therefeld prodics\n",
      "From on him fretching of the taxe.\n",
      "\n",
      "KING EDWARD IV:\n",
      "Here.\n",
      "\n",
      "LAFNAAF\n"
     ]
    },
    {
     "name": "stderr",
     "output_type": "stream",
     "text": [
      "100%|██████████| 175/175 [00:00<00:00, 303.00it/s]\n"
     ]
    },
    {
     "name": "stdout",
     "output_type": "stream",
     "text": [
      "47 1.6948352302823748\n",
      "The King said look'd sinted coms-ing out, trick' reaver?\n",
      "\n",
      "ROGKZAREM:\n",
      "In were ary'd lies times uncoveonly netser! they dies I\n",
      "homy; I lies waick; a genclast- the first our honasting to gloved show at the paricusble:\n"
     ]
    },
    {
     "name": "stderr",
     "output_type": "stream",
     "text": [
      "100%|██████████| 175/175 [00:00<00:00, 276.04it/s]\n"
     ]
    },
    {
     "name": "stdout",
     "output_type": "stream",
     "text": [
      "48 1.6920573547908238\n",
      "The King said's\n",
      "Tad, I now\n",
      "And he have weave and sins of your ward a fell, you have whot a gatound? where faiding, he eme, I pieron an ensost\n",
      "My lotcer say, Seart tell, and joinful\n",
      "That delast for the more.\n",
      "\n",
      "YORK:\n",
      "\n"
     ]
    },
    {
     "name": "stderr",
     "output_type": "stream",
     "text": [
      "100%|██████████| 175/175 [00:00<00:00, 278.68it/s]\n"
     ]
    },
    {
     "name": "stdout",
     "output_type": "stream",
     "text": [
      "49 1.6886347695759365\n",
      "The King said 'tis fly by pompermer it.\n",
      "\n",
      "BAPNAN:\n",
      "Be a not swering thele,'l him have me, peade:\n",
      "As bite thee thou hems I now for my pramp sweet them.\n",
      "Is him; he humsure floof\n",
      "of queen,\n",
      "a' thou his justivings that th\n"
     ]
    }
   ],
   "source": [
    "net = SequenceGenerationNet(vocab_size, 20, 50, num_layers=2, dropout=0.1)\n",
    "net = net.to(\"cuda:0\")\n",
    "opt = optim.Adam(net.parameters())\n",
    "loss_f = nn.CrossEntropyLoss()\n",
    "\n",
    "for epoch in range(50):\n",
    "  net.train()\n",
    "  losses = []\n",
    "  for data in tqdm.tqdm(loader):\n",
    "    x = data[:, :-1]\n",
    "    y = data[:, 1:]\n",
    "\n",
    "    x = x.to(\"cuda:0\")\n",
    "    y = y.to(\"cuda:0\")\n",
    "\n",
    "    y_pred, _ = net(x)\n",
    "    loss = loss_f(y_pred.view(-1, vocab_size), y.view(-1))\n",
    "    net.zero_grad()\n",
    "    loss.backward()\n",
    "    opt.step()\n",
    "    losses.append(loss.item())\n",
    "  print(epoch, mean(losses))\n",
    "  with torch.no_grad():\n",
    "    print(generate_seq(net, device=\"cuda:0\"))"
   ]
  },
  {
   "cell_type": "code",
   "execution_count": null,
   "metadata": {},
   "outputs": [],
   "source": []
  },
  {
   "cell_type": "code",
   "execution_count": null,
   "metadata": {},
   "outputs": [],
   "source": []
  }
 ],
 "metadata": {
  "kernelspec": {
   "display_name": "Python 3.9.6 ('.venv': pipenv)",
   "language": "python",
   "name": "python3"
  },
  "language_info": {
   "codemirror_mode": {
    "name": "ipython",
    "version": 3
   },
   "file_extension": ".py",
   "mimetype": "text/x-python",
   "name": "python",
   "nbconvert_exporter": "python",
   "pygments_lexer": "ipython3",
   "version": "3.9.6"
  },
  "orig_nbformat": 4,
  "vscode": {
   "interpreter": {
    "hash": "a033025b2656a8152f688d77aca8b72b12f546d595e2e5c944b59fe4e9f3ea39"
   }
  }
 },
 "nbformat": 4,
 "nbformat_minor": 2
}
