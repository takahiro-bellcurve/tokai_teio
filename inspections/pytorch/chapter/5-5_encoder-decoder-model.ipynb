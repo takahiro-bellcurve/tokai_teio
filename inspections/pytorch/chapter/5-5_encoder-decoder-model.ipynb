{
 "cells": [
  {
   "cell_type": "markdown",
   "metadata": {},
   "source": [
    "## Encoder-Decoderモデルによる機械翻訳\n",
    "\n",
    "RNNの章として最後にencoder-decoderという2つのニューラルネットワークを用いたモデルを使用して機械翻訳を実装します。\n",
    "\n",
    "Encoder-Decoderモデルは任意の2つの対象を用意して、片方からもう一方を生成することができます。\n",
    "\n",
    "今回の例では英語とフランス語の文章を用意することで英語からフランス語への翻訳モデルを作成します。また質問文と回答を用意すれば自動Q&Aシステムをつくることもできます。\n",
    "\n",
    "さらにCNNと組み合わせることで、画像から説明文を作成するといった応用てきなことも可能です。\n"
   ]
  },
  {
   "cell_type": "markdown",
   "metadata": {},
   "source": [
    "## Encoder-Decoderモデルの概要\n",
    "\n",
    "Encoder-Decoderモデルは自由度の高いモデルなので様々な派生が存在しますが、だいたい次のように動作します。\n",
    "\n",
    "1. 翻訳元のデータをEncoderに入力し特徴量ベクトルを得る\n",
    "2. 特徴量ベクトルをDecoderに入力し翻訳先のデータを得る\n",
    "\n",
    "\n"
   ]
  },
  {
   "cell_type": "code",
   "execution_count": 1,
   "metadata": {},
   "outputs": [],
   "source": [
    "DATA_DIR_PATH = \"../data\""
   ]
  },
  {
   "cell_type": "code",
   "execution_count": 2,
   "metadata": {
    "colab": {},
    "colab_type": "code",
    "id": "9Zx9IltZnyIF"
   },
   "outputs": [
    {
     "name": "stderr",
     "output_type": "stream",
     "text": [
      "/home/tk/university/zemi/tokai_teio/inspections/pytorch/.venv/lib/python3.9/site-packages/tqdm/auto.py:22: TqdmWarning: IProgress not found. Please update jupyter and ipywidgets. See https://ipywidgets.readthedocs.io/en/stable/user_install.html\n",
      "  from .autonotebook import tqdm as notebook_tqdm\n"
     ]
    }
   ],
   "source": [
    "import torch\n",
    "from torch import nn, optim\n",
    "from torch.utils.data import (Dataset, \n",
    "                              DataLoader,\n",
    "                              TensorDataset)\n",
    "import tqdm"
   ]
  },
  {
   "cell_type": "code",
   "execution_count": 3,
   "metadata": {
    "colab": {},
    "colab_type": "code",
    "id": "o5C2qvbRoIoi"
   },
   "outputs": [],
   "source": [
    "import re\n",
    "import collections\n",
    "import itertools\n",
    "\n",
    "remove_marks_regex = re.compile(\n",
    "    \"[\\,\\(\\)\\[\\]\\*:;¿¡]|<.*?>\")\n",
    "shift_marks_regex = re.compile(\"([?!\\.])\")\n",
    "\n",
    "unk = 0\n",
    "sos = 1\n",
    "eos = 2\n",
    "\n",
    "def normalize(text):\n",
    "    text = text.lower()\n",
    "    # 不要な文字を除去\n",
    "    text = remove_marks_regex.sub(\"\", text)\n",
    "    # ?!.と単語の間に空白を挿入\n",
    "    text = shift_marks_regex.sub(r\" \\1\", text)\n",
    "    return text\n",
    "\n",
    "def parse_line(line):\n",
    "    line = normalize(line.strip())\n",
    "    # print(line.split(\"\\t\"))\n",
    "    # 翻訳元(src)と翻訳先(trg)それぞれのトークンのリストを作る\n",
    "    try :\n",
    "        src, trg = line.split(\"\\t\")\n",
    "        src_tokens = src.strip().split()\n",
    "        trg_tokens = trg.strip().split()\n",
    "        return src_tokens, trg_tokens\n",
    "    except :\n",
    "        print(\"parse_error\")\n",
    "        return \n",
    "\n",
    "def build_vocab(tokens):\n",
    "    # ファイル中のすべての文章でのトークンの出現数を数える\n",
    "    counts = collections.Counter(tokens)\n",
    "    # トークンの出現数の多い順に並べる\n",
    "    sorted_counts = sorted(counts.items(), \n",
    "                           key=lambda c: c[1], reverse=True)\n",
    "    # 3つのタグを追加して正引きリストと逆引き用辞書を作る\n",
    "    word_list = [\"<UNK>\", \"<SOS>\", \"<EOS>\"] \\\n",
    "        + [x[0] for x in sorted_counts]\n",
    "    word_dict = dict((w, i) for i, w in enumerate(word_list))\n",
    "    return word_list, word_dict\n",
    "    \n",
    "def words2tensor(words, word_dict, max_len, padding=0):\n",
    "    # 末尾に終了タグを付ける\n",
    "    words = words + [\"<EOS>\"]\n",
    "    # 辞書を利用して数値のリストに変換する\n",
    "    words = [word_dict.get(w, 0) for w in words]\n",
    "    seq_len = len(words)\n",
    "    # 長さがmax_len以下の場合はパディングする\n",
    "    if seq_len < max_len + 1:\n",
    "        words = words + [padding] * (max_len + 1 - seq_len)\n",
    "    # Tensorに変換して返す\n",
    "    return torch.tensor(words, dtype=torch.int64), seq_len"
   ]
  },
  {
   "cell_type": "markdown",
   "metadata": {
    "colab_type": "text",
    "id": "mccOe_8EoA59"
   },
   "source": [
    "リスト5.18　TranslationPairDatasetクラスの作成"
   ]
  },
  {
   "cell_type": "code",
   "execution_count": 4,
   "metadata": {
    "colab": {},
    "colab_type": "code",
    "id": "kKU4mNperk9Z"
   },
   "outputs": [],
   "source": [
    "class TranslationPairDataset(Dataset):\n",
    "    def __init__(self, path, max_len=15):\n",
    "        # 単語数が多い文章をフィルタリングする関数\n",
    "        def filter_pair(p):\n",
    "            if p is None :\n",
    "                return False\n",
    "            return not (len(p[0]) > max_len \n",
    "                        or len(p[1]) > max_len)\n",
    "        # ファイルを開き、パース/フィルタリングをする       \n",
    "        with open(path) as fp:\n",
    "            pairs = map(parse_line, fp)\n",
    "            pairs = filter(filter_pair, pairs)\n",
    "            pairs = list(pairs)\n",
    "        # 文章のペアをソースとターゲットに分ける\n",
    "        src = [p[0] for p in pairs]\n",
    "        trg = [p[1] for p in pairs]\n",
    "        #それぞれの語彙集を作成する\n",
    "        self.src_word_list, self.src_word_dict = \\\n",
    "            build_vocab(itertools.chain.from_iterable(src))\n",
    "        self.trg_word_list, self.trg_word_dict = \\\n",
    "            build_vocab(itertools.chain.from_iterable(trg))\n",
    "        # 語彙集を使用してTensorに変換する\n",
    "        self.src_data = [words2tensor(\n",
    "            words, self.src_word_dict, max_len)\n",
    "                for words in src]\n",
    "        self.trg_data = [words2tensor(\n",
    "            words, self.trg_word_dict, max_len, -100)\n",
    "                for words in trg]\n",
    "        \n",
    "    def __len__(self):\n",
    "        return len(self.src_data)\n",
    "    \n",
    "    def __getitem__(self, idx):\n",
    "        src, lsrc = self.src_data[idx]\n",
    "        trg, ltrg = self.trg_data[idx]\n",
    "        return src, lsrc, trg, ltrg"
   ]
  },
  {
   "cell_type": "markdown",
   "metadata": {
    "colab_type": "text",
    "id": "OXOyt0jwoMnP"
   },
   "source": [
    "リスト5.19　DatasetとDataLoaderの作成（your_path>は任意のディレクトリを指定）"
   ]
  },
  {
   "cell_type": "code",
   "execution_count": 15,
   "metadata": {
    "colab": {},
    "colab_type": "code",
    "id": "UguehAH_sv_G"
   },
   "outputs": [
    {
     "name": "stdout",
     "output_type": "stream",
     "text": [
      "parse_error\n",
      "parse_error\n",
      "parse_error\n",
      "parse_error\n"
     ]
    }
   ],
   "source": [
    "batch_size = 64\n",
    "max_len = 10\n",
    "# このスクリプトだとデータセットのうち \\tCC.+$ -> \"\" で不要な部分を置換しないと動かない。\n",
    "path = f\"{DATA_DIR_PATH}/jpn.txt\"\n",
    "ds = TranslationPairDataset(path, max_len=max_len)\n",
    "loader = DataLoader(ds, batch_size=batch_size, shuffle=True,\n",
    "                    num_workers=4)"
   ]
  },
  {
   "cell_type": "markdown",
   "metadata": {
    "colab_type": "text",
    "id": "flT7AwtWoW2m"
   },
   "source": [
    "リスト5.20　Encoderの作成"
   ]
  },
  {
   "cell_type": "code",
   "execution_count": 16,
   "metadata": {
    "colab": {},
    "colab_type": "code",
    "id": "Y4La7cmCtA67"
   },
   "outputs": [],
   "source": [
    "class Encoder(nn.Module):\n",
    "    def __init__(self, num_embeddings,\n",
    "                 embedding_dim=50, \n",
    "                 hidden_size=50,\n",
    "                 num_layers=1,\n",
    "                 dropout=0.2):\n",
    "        super().__init__()\n",
    "        self.emb = nn.Embedding(num_embeddings, embedding_dim,\n",
    "                                padding_idx=0)\n",
    "        self.lstm = nn.LSTM(embedding_dim,\n",
    "                            hidden_size, num_layers,\n",
    "                            batch_first=True, dropout=dropout)\n",
    "\n",
    "    def forward(self, x, h0=None, l=None):\n",
    "        x = self.emb(x)\n",
    "        if l is not None:\n",
    "            x = nn.utils.rnn.pack_padded_sequence(\n",
    "                x, l, batch_first=True)\n",
    "        _, h = self.lstm(x, h0)\n",
    "        return h"
   ]
  },
  {
   "cell_type": "markdown",
   "metadata": {
    "colab_type": "text",
    "id": "cyC-WhMzofVq"
   },
   "source": [
    "リスト5.21　Decoderの作成（要再チェック）"
   ]
  },
  {
   "cell_type": "code",
   "execution_count": 17,
   "metadata": {
    "colab": {},
    "colab_type": "code",
    "id": "wxzDeTvetXKL"
   },
   "outputs": [],
   "source": [
    "class Decoder(nn.Module):\n",
    "    def __init__(self, num_embeddings,\n",
    "                 embedding_dim=50, \n",
    "                 hidden_size=50,\n",
    "                 num_layers=1,\n",
    "                 dropout=0.2):\n",
    "        super().__init__()\n",
    "        self.emb = nn.Embedding(num_embeddings, embedding_dim,\n",
    "                                padding_idx=0)\n",
    "        self.lstm = nn.LSTM(embedding_dim, hidden_size,\n",
    "                            num_layers, batch_first=True,\n",
    "                            dropout=dropout)\n",
    "        self.linear = nn.Linear(hidden_size, num_embeddings)\n",
    "    def forward(self, x, h, l=None):\n",
    "        x = self.emb(x)\n",
    "        if l is not None:\n",
    "            x = nn.utils.rnn.pack_padded_sequence(\n",
    "                x, l, batch_first=True)\n",
    "        x, h = self.lstm(x, h)\n",
    "        if l is not None:\n",
    "            x = nn.utils.rnn.pad_packed_sequence(x, batch_first=True, padding_value=0)[0]\n",
    "        x = self.linear(x)\n",
    "        return x, h"
   ]
  },
  {
   "cell_type": "markdown",
   "metadata": {
    "colab_type": "text",
    "id": "_W392HxopBqp"
   },
   "source": [
    "リスト5.22　翻訳する関数の作成"
   ]
  },
  {
   "cell_type": "code",
   "execution_count": 45,
   "metadata": {
    "colab": {},
    "colab_type": "code",
    "id": "UvGlLeGZsJbC"
   },
   "outputs": [],
   "source": [
    "def translate(input_str, enc, dec, max_len=15, device=\"cpu\"):\n",
    "    # 入力文字列を数値化してTensorに変換\n",
    "    words = normalize(input_str).split()\n",
    "    input_tensor, seq_len = words2tensor(words, \n",
    "        ds.src_word_dict, max_len=max_len)\n",
    "    input_tensor = input_tensor.unsqueeze(0)\n",
    "    # Encoderで使用するので入力の長さもリストにしておく\n",
    "    seq_len = [seq_len]\n",
    "    # 開始トークンを準備\n",
    "    sos_inputs = torch.tensor(sos, dtype=torch.int64)\n",
    "    input_tensor = input_tensor.to(device)\n",
    "    sos_inputs = sos_inputs.to(device)\n",
    "    # 入力文字列をEncoderに入れてコンテキストを得る\n",
    "    ctx = enc(input_tensor, l=seq_len)\n",
    "    # 開始トークンとコンテキストをDecoderの初期値にセット\n",
    "    z = sos_inputs\n",
    "    h = ctx\n",
    "    results = []\n",
    "    for i in range(max_len):\n",
    "        # Decoderで次の単語を予測\n",
    "        o, h = dec(z.view(1, 1), h)\n",
    "        print(o)\n",
    "        print(o.shape)\n",
    "        # print(\"o:\", o, \"h:\", h)\n",
    "        # 線形層の出力が最も大きい場所が次の単語のID\n",
    "        wi = o.detach().view(-1).max(0)[1]\n",
    "        print()\n",
    "        print(wi.item())\n",
    "        if wi.item() == eos:\n",
    "            break\n",
    "        results.append(wi.item())\n",
    "        # 次の入力は今回の出力のIDを使用する\n",
    "        z = wi\n",
    "    # 記録しておいた出力のIDを文字列に変換\n",
    "    print(results)\n",
    "    return \" \".join(ds.trg_word_list[i] for i in results)"
   ]
  },
  {
   "cell_type": "markdown",
   "metadata": {
    "colab_type": "text",
    "id": "XolLZbJ8pJ0p"
   },
   "source": [
    "リスト5.23　関数の動作の確認"
   ]
  },
  {
   "cell_type": "code",
   "execution_count": 46,
   "metadata": {
    "colab": {},
    "colab_type": "code",
    "id": "1FjQG5AWuTnK"
   },
   "outputs": [
    {
     "name": "stdout",
     "output_type": "stream",
     "text": [
      "tensor([[[-0.0823,  0.0704,  0.0465,  ...,  0.0661, -0.0842,  0.0838]]],\n",
      "       grad_fn=<ViewBackward0>)\n",
      "torch.Size([1, 1, 69651])\n",
      "\n",
      "29048\n",
      "tensor([[[-0.1012,  0.0663,  0.0618,  ...,  0.0504, -0.0704,  0.0888]]],\n",
      "       grad_fn=<ViewBackward0>)\n",
      "torch.Size([1, 1, 69651])\n",
      "\n",
      "29048\n",
      "tensor([[[-0.1006,  0.0476,  0.0726,  ...,  0.0479, -0.0579,  0.0818]]],\n",
      "       grad_fn=<ViewBackward0>)\n",
      "torch.Size([1, 1, 69651])\n",
      "\n",
      "63469\n",
      "tensor([[[-0.0832,  0.0636,  0.0742,  ...,  0.0437, -0.0665,  0.0756]]],\n",
      "       grad_fn=<ViewBackward0>)\n",
      "torch.Size([1, 1, 69651])\n",
      "\n",
      "34945\n",
      "tensor([[[-0.0852,  0.0738,  0.0984,  ...,  0.0317, -0.0685,  0.0779]]],\n",
      "       grad_fn=<ViewBackward0>)\n",
      "torch.Size([1, 1, 69651])\n",
      "\n",
      "423\n",
      "tensor([[[-0.0945,  0.0697,  0.0997,  ...,  0.0235, -0.0868,  0.0891]]],\n",
      "       grad_fn=<ViewBackward0>)\n",
      "torch.Size([1, 1, 69651])\n",
      "\n",
      "34945\n",
      "tensor([[[-0.0838,  0.0697,  0.1056,  ...,  0.0251, -0.0965,  0.0932]]],\n",
      "       grad_fn=<ViewBackward0>)\n",
      "torch.Size([1, 1, 69651])\n",
      "\n",
      "37641\n",
      "tensor([[[-0.0891,  0.0580,  0.0927,  ...,  0.0042, -0.0964,  0.1015]]],\n",
      "       grad_fn=<ViewBackward0>)\n",
      "torch.Size([1, 1, 69651])\n",
      "\n",
      "19762\n",
      "tensor([[[-0.0727,  0.0528,  0.0920,  ..., -0.0014, -0.0798,  0.0927]]],\n",
      "       grad_fn=<ViewBackward0>)\n",
      "torch.Size([1, 1, 69651])\n",
      "\n",
      "19762\n",
      "tensor([[[-0.0823,  0.0500,  0.0958,  ..., -0.0178, -0.0614,  0.0874]]],\n",
      "       grad_fn=<ViewBackward0>)\n",
      "torch.Size([1, 1, 69651])\n",
      "\n",
      "5719\n",
      "tensor([[[-0.0824,  0.0763,  0.0901,  ..., -0.0137, -0.0681,  0.0888]]],\n",
      "       grad_fn=<ViewBackward0>)\n",
      "torch.Size([1, 1, 69651])\n",
      "\n",
      "57732\n",
      "tensor([[[-0.0893,  0.0868,  0.0842,  ..., -0.0017, -0.0678,  0.1061]]],\n",
      "       grad_fn=<ViewBackward0>)\n",
      "torch.Size([1, 1, 69651])\n",
      "\n",
      "57732\n",
      "tensor([[[-0.0828,  0.0920,  0.0897,  ...,  0.0068, -0.0708,  0.1094]]],\n",
      "       grad_fn=<ViewBackward0>)\n",
      "torch.Size([1, 1, 69651])\n",
      "\n",
      "5719\n",
      "tensor([[[-0.0999,  0.0816,  0.1003,  ...,  0.0034, -0.0771,  0.1188]]],\n",
      "       grad_fn=<ViewBackward0>)\n",
      "torch.Size([1, 1, 69651])\n",
      "\n",
      "5719\n",
      "tensor([[[-0.1066,  0.0856,  0.1020,  ..., -0.0031, -0.0719,  0.1193]]],\n",
      "       grad_fn=<ViewBackward0>)\n",
      "torch.Size([1, 1, 69651])\n",
      "\n",
      "57732\n",
      "[29048, 29048, 63469, 34945, 423, 34945, 37641, 19762, 19762, 5719, 57732, 57732, 5719, 5719, 57732]\n"
     ]
    },
    {
     "data": {
      "text/plain": [
       "'お兄さんの背ってどれぐらいなの？ お兄さんの背ってどれぐらいなの？ 幸福を求める権利は誰にもある。 それが知りたい。 みんなはどこ？ それが知りたい。 トムはお礼を言い忘れてしまった。 ほとんどの人が行きました。 ほとんどの人が行きました。 まだ宵の口だ。 彼が帰ってきたらすぐに私に知らせてくれ。 彼が帰ってきたらすぐに私に知らせてくれ。 まだ宵の口だ。 まだ宵の口だ。 彼が帰ってきたらすぐに私に知らせてくれ。'"
      ]
     },
     "execution_count": 46,
     "metadata": {},
     "output_type": "execute_result"
    }
   ],
   "source": [
    "enc = Encoder(len(ds.src_word_list), 100, 100, 2)\n",
    "dec = Decoder(len(ds.trg_word_list), 100, 100, 2)\n",
    "translate(\"I am a student.\", enc, dec)"
   ]
  },
  {
   "cell_type": "markdown",
   "metadata": {
    "colab_type": "text",
    "id": "BuRB5hgepMX1"
   },
   "source": [
    "リスト5.24　オプティマイザーのパラメータ"
   ]
  },
  {
   "cell_type": "code",
   "execution_count": 43,
   "metadata": {
    "colab": {},
    "colab_type": "code",
    "id": "RF0da0TBueeb"
   },
   "outputs": [],
   "source": [
    "enc = Encoder(len(ds.src_word_list), 100, 100, 2)\n",
    "dec = Decoder(len(ds.trg_word_list), 100, 100, 2)\n",
    "enc.to(\"cuda:0\")\n",
    "dec.to(\"cuda:0\")\n",
    "opt_enc = optim.Adam(enc.parameters(), 0.002)\n",
    "opt_dec = optim.Adam(dec.parameters(), 0.002)\n",
    "loss_f = nn.CrossEntropyLoss()"
   ]
  },
  {
   "cell_type": "markdown",
   "metadata": {
    "colab_type": "text",
    "id": "SDmwNm0kpSnt"
   },
   "source": [
    "リスト5.25　モデルの学習部分（損失関数など）"
   ]
  },
  {
   "cell_type": "code",
   "execution_count": 44,
   "metadata": {
    "colab": {},
    "colab_type": "code",
    "id": "d3e8_A3fwJEM"
   },
   "outputs": [
    {
     "name": "stderr",
     "output_type": "stream",
     "text": [
      "100%|██████████| 1301/1301 [00:11<00:00, 110.04it/s]"
     ]
    },
    {
     "name": "stdout",
     "output_type": "stream",
     "text": [
      "0 0.8380975039392802\n",
      "torch.Size([1, 1, 69651])\n",
      "tensor(2, device='cuda:0')\n",
      "2\n",
      "[]\n",
      "\n",
      "torch.Size([1, 1, 69651])\n",
      "tensor(2, device='cuda:0')\n",
      "2\n",
      "[]\n",
      "\n",
      "torch.Size([1, 1, 69651])\n",
      "tensor(2, device='cuda:0')\n",
      "2\n",
      "[]\n",
      "\n"
     ]
    },
    {
     "name": "stderr",
     "output_type": "stream",
     "text": [
      "\n"
     ]
    }
   ],
   "source": [
    "from statistics import mean\n",
    "\n",
    "def to2D(x):\n",
    "    shapes = x.shape\n",
    "    return x.reshape(shapes[0] * shapes[1], -1)\n",
    "\n",
    "for epoc in range(30):\n",
    "    # ネットワークを訓練モードにする\n",
    "    enc.train(), dec.train()\n",
    "    losses = []\n",
    "    for x, lx, y, ly in tqdm.tqdm(loader):\n",
    "        # xのPackedSequenceを作るために翻訳元の長さで降順にソート\n",
    "        lx, sort_idx = lx.sort(descending=True)\n",
    "        x, y, ly = x[sort_idx], y[sort_idx], ly[sort_idx]\n",
    "        x, y = x.to(\"cuda:0\"), y.to(\"cuda:0\")\n",
    "        # 翻訳元をEncoderに入れてコンテキストを得る\n",
    "        ctx = enc(x, l=lx)\n",
    "        \n",
    "        # yのPackedSequenceを作るために翻訳先の長さで降順にソート\n",
    "        ly, sort_idx = ly.sort(descending=True)\n",
    "        y = y[sort_idx]\n",
    "        # Decoderの初期値をセット\n",
    "        h0 = (ctx[0][:, sort_idx, :], ctx[1][:, sort_idx, :])\n",
    "        z = y[:, :-1].detach()\n",
    "        # -100のままだとEmbeddingの計算でエラーが出てしまうので値を0に変更しておく\n",
    "        z[z==-100] = 0\n",
    "        # Decoderに通して損失関数を計算\n",
    "        o, _ = dec(z, h0, l=ly-1)\n",
    "        loss = loss_f(to2D(o[:]), to2D(y[:, 1:max(ly)]).squeeze())\n",
    "        # Backpropagation（誤差逆伝播法）を実行\n",
    "        enc.zero_grad(), dec.zero_grad()\n",
    "        loss.backward()\n",
    "        opt_enc.step(), opt_dec.step()\n",
    "        losses.append(loss.item())\n",
    "        \n",
    "    # データセットに対して一通り計算したら現在の\n",
    "    # 損失関数の値や翻訳結果を表示\n",
    "    enc.eval(), dec.eval()\n",
    "    print(epoc, mean(losses))\n",
    "    with torch.no_grad():\n",
    "        print(translate(\"I am a student.\",\n",
    "                         enc, dec, max_len=max_len, device=\"cuda:0\"))\n",
    "        print(translate(\"He likes to eat pizza.\",\n",
    "                         enc, dec, max_len=max_len, device=\"cuda:0\"))\n",
    "        print(translate(\"She is my mother.\",\n",
    "                         enc, dec, max_len=max_len, device=\"cuda:0\"))\n",
    "    break"
   ]
  },
  {
   "cell_type": "code",
   "execution_count": null,
   "metadata": {},
   "outputs": [
    {
     "name": "stdout",
     "output_type": "stream",
     "text": [
      "o: tensor([[[-7.5893, -8.7107, 11.6988,  ..., -7.6975, -7.7253, -8.1550]]],\n",
      "       device='cuda:0', grad_fn=<ViewBackward0>) h: (tensor([[[ 0.9761, -0.9887, -0.9873,  0.9826, -0.9919, -0.9949,  0.9930,\n",
      "          -0.9780, -0.9609,  0.9829, -0.9925,  0.9937, -0.9926, -0.9816,\n",
      "          -0.9965,  0.9882, -0.7353, -0.9915, -0.9819, -0.9938, -0.9969,\n",
      "           0.9804, -0.9466,  0.9902, -0.9942, -0.9966,  0.9733, -0.9836,\n",
      "          -0.9815,  0.9933,  0.9942,  0.9832,  0.9899, -0.9833,  0.9715,\n",
      "           0.9964,  0.9941, -0.9902, -0.9959, -0.9847,  0.9841,  0.9950,\n",
      "          -0.9960,  0.9891,  0.9888, -0.9962, -0.9916, -0.1004, -0.9605,\n",
      "           0.9899, -0.8829, -0.9870, -0.9946, -0.9900, -0.9871, -0.9937,\n",
      "          -0.9865, -0.9950,  0.9923, -0.9938, -0.9953, -0.9918, -0.9914,\n",
      "           0.7199, -0.9944, -0.9837, -0.9871,  0.9991,  0.7222, -0.9759,\n",
      "           0.9357,  0.9226,  0.9975,  0.9979, -0.9638, -0.9883,  0.7235,\n",
      "           0.9520, -0.9796, -0.9542, -0.7431, -0.9487, -0.9678, -0.9708,\n",
      "          -0.9987, -0.2264, -0.9892, -0.9742, -0.9857,  0.9957,  0.9433,\n",
      "          -0.9658, -0.9893,  0.9657,  0.9901, -0.9930, -0.7357,  0.9497,\n",
      "           0.9894,  0.9940]],\n",
      "\n",
      "        [[ 0.9998,  0.9998, -0.9999,  0.9998, -0.9999, -0.9999, -0.9996,\n",
      "           0.9999,  0.9999,  0.7614, -0.9998,  0.9998,  0.9998,  0.9999,\n",
      "          -0.9999,  0.9998,  0.9999, -0.9998, -0.9999, -0.9998,  0.9999,\n",
      "          -0.7614,  0.9999, -0.9998, -0.9998,  0.9999,  0.9987,  0.9998,\n",
      "           0.9999, -0.9999,  0.9998, -0.9998, -0.9662, -0.9997,  0.7613,\n",
      "           0.7611,  0.9993,  0.7607, -0.9998,  0.9998, -0.9998, -0.9998,\n",
      "          -0.9999, -0.7611,  0.9997,  0.7614, -0.9998,  0.9999,  0.9999,\n",
      "           0.9999,  0.9998, -0.9998,  0.9999, -0.9999,  0.9999,  0.9999,\n",
      "           0.9998,  0.9999, -0.9999,  0.9997,  0.9999, -0.9998, -0.9999,\n",
      "           0.7613,  0.9999,  0.9998, -0.9999,  0.9999, -0.9998,  0.9999,\n",
      "          -0.7614,  0.9998, -0.9999, -0.9998,  0.7615,  0.9998, -0.9997,\n",
      "          -0.9998,  0.9999,  0.9998,  0.9999,  0.9998, -0.9999, -0.9997,\n",
      "           0.9998, -0.9998, -0.9998, -0.9999, -0.9992, -0.9998,  0.9999,\n",
      "          -0.9999,  0.9998,  0.9997,  0.9999, -0.9999, -0.9997,  0.9998,\n",
      "           0.9999, -0.9998]]], device='cuda:0', grad_fn=<CudnnRnnBackward0>), tensor([[[ 4.4598, -5.0052, -5.6179,  5.0037, -5.5591, -5.2040,  4.5911,\n",
      "          -4.7127, -5.3475,  4.1634, -5.5616,  5.5602, -5.4554, -5.8883,\n",
      "          -5.4250,  4.6158, -0.9526, -4.7635, -5.2183, -5.2350, -5.0289,\n",
      "           5.0385, -4.5446,  5.1893, -4.0101, -5.9474,  5.5674, -5.5741,\n",
      "          -4.2928,  5.5010,  4.8448,  5.1685,  5.1716, -4.3659,  5.1008,\n",
      "           5.4726,  5.4844, -5.2087, -5.7395, -5.1854,  5.3122,  5.4241,\n",
      "          -5.7000,  4.4672,  5.5618, -4.9748, -2.9143, -0.3099, -2.0809,\n",
      "           5.4886, -1.5588, -5.4520, -5.3483, -6.0888, -5.6916, -4.8272,\n",
      "          -5.0813, -5.3278,  5.6003, -4.5200, -5.4416, -5.2317, -4.6989,\n",
      "           0.9379, -5.6895, -4.7012, -4.8143,  4.9691,  0.9407, -4.4894,\n",
      "           5.5157,  1.9358,  5.4809,  5.4552, -2.0336, -5.0332,  0.9802,\n",
      "           1.9437, -5.1423, -2.0085, -0.9805, -1.9406, -5.5299, -5.4529,\n",
      "          -5.3369, -0.4657, -4.8761, -5.1348, -5.1011,  5.3259,  1.8515,\n",
      "          -4.7020, -5.4542,  4.4044,  4.6879, -4.2538, -0.9834,  1.9518,\n",
      "           5.8729,  4.4489]],\n",
      "\n",
      "        [[ 6.5038,  6.5018, -6.5244,  6.5528, -6.3920, -6.3628, -6.5156,\n",
      "           6.3842,  6.3131,  0.9998, -6.5393,  6.5643,  6.5968,  6.5617,\n",
      "          -6.5280,  6.5050,  6.5351, -6.5095, -6.3096, -6.5320,  6.1430,\n",
      "          -0.9996,  6.5209, -6.4166, -6.5781,  6.3929,  5.2739,  6.4909,\n",
      "           6.4298, -6.4316,  6.2990, -6.3905, -2.0353, -6.4826,  0.9997,\n",
      "           0.9995,  6.2634,  0.9998, -6.3256,  6.3536, -6.5882, -6.3976,\n",
      "          -6.6078, -0.9996,  6.2618,  0.9996, -6.4841,  6.4908,  6.5910,\n",
      "           6.5450,  6.2490, -6.3852,  6.4844, -6.4707,  6.4913,  6.5208,\n",
      "           6.5500,  6.3764, -6.5314,  6.5809,  6.3124, -6.2801, -6.3958,\n",
      "           0.9996,  6.4083,  6.3352, -6.1141,  6.2724, -6.2575,  6.2329,\n",
      "          -0.9997,  6.3552, -6.4548, -6.5502,  0.9998,  6.4169, -6.5603,\n",
      "          -6.5065,  6.5647,  6.4200,  6.6396,  6.4886, -6.4307, -6.5051,\n",
      "           6.3742, -6.4810, -6.4674, -6.6149, -5.7500, -6.5628,  6.6191,\n",
      "          -6.4699,  6.4771,  6.4908,  6.5141, -6.5876, -6.3944,  6.3958,\n",
      "           6.4678, -6.5858]]], device='cuda:0', grad_fn=<CudnnRnnBackward0>))\n",
      "[]\n",
      "\n"
     ]
    }
   ],
   "source": [
    "print(translate(\"I am a student.\",enc, dec, max_len=max_len, device=\"cuda:0\"))"
   ]
  },
  {
   "cell_type": "code",
   "execution_count": null,
   "metadata": {},
   "outputs": [],
   "source": []
  }
 ],
 "metadata": {
  "kernelspec": {
   "display_name": "Python 3.9.6 ('.venv': pipenv)",
   "language": "python",
   "name": "python3"
  },
  "language_info": {
   "codemirror_mode": {
    "name": "ipython",
    "version": 3
   },
   "file_extension": ".py",
   "mimetype": "text/x-python",
   "name": "python",
   "nbconvert_exporter": "python",
   "pygments_lexer": "ipython3",
   "version": "3.9.6"
  },
  "orig_nbformat": 4,
  "vscode": {
   "interpreter": {
    "hash": "6b9f220186b1679e4c67686f80c503f2a68b9789d94e8dfa473b7907788bc702"
   }
  }
 },
 "nbformat": 4,
 "nbformat_minor": 2
}
